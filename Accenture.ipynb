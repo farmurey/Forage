{
 "cells": [
  {
   "cell_type": "markdown",
   "id": "efe40670",
   "metadata": {},
   "source": [
    "## Forage simulation for Accenture's social buzz data"
   ]
  },
  {
   "cell_type": "code",
   "execution_count": null,
   "id": "7cb6c61a",
   "metadata": {},
   "outputs": [],
   "source": [
    "import pandas as pd\n",
    "import matplotlib.pyplot as plt\n"
   ]
  },
  {
   "cell_type": "markdown",
   "id": "1359ad3b",
   "metadata": {},
   "source": [
    "### Analyze 3 csv files, content, reactions and reactiontype"
   ]
  },
  {
   "cell_type": "code",
   "execution_count": 2,
   "id": "a96098d5",
   "metadata": {},
   "outputs": [
    {
     "data": {
      "text/html": [
       "<div>\n",
       "<style scoped>\n",
       "    .dataframe tbody tr th:only-of-type {\n",
       "        vertical-align: middle;\n",
       "    }\n",
       "\n",
       "    .dataframe tbody tr th {\n",
       "        vertical-align: top;\n",
       "    }\n",
       "\n",
       "    .dataframe thead th {\n",
       "        text-align: right;\n",
       "    }\n",
       "</style>\n",
       "<table border=\"1\" class=\"dataframe\">\n",
       "  <thead>\n",
       "    <tr style=\"text-align: right;\">\n",
       "      <th></th>\n",
       "      <th>Unnamed: 0</th>\n",
       "      <th>Content ID</th>\n",
       "      <th>User ID</th>\n",
       "      <th>Type</th>\n",
       "      <th>Category</th>\n",
       "      <th>URL</th>\n",
       "    </tr>\n",
       "  </thead>\n",
       "  <tbody>\n",
       "    <tr>\n",
       "      <th>0</th>\n",
       "      <td>0</td>\n",
       "      <td>97522e57-d9ab-4bd6-97bf-c24d952602d2</td>\n",
       "      <td>8d3cd87d-8a31-4935-9a4f-b319bfe05f31</td>\n",
       "      <td>photo</td>\n",
       "      <td>Studying</td>\n",
       "      <td>https://socialbuzz.cdn.com/content/storage/975...</td>\n",
       "    </tr>\n",
       "    <tr>\n",
       "      <th>1</th>\n",
       "      <td>1</td>\n",
       "      <td>9f737e0a-3cdd-4d29-9d24-753f4e3be810</td>\n",
       "      <td>beb1f34e-7870-46d6-9fc7-2e12eb83ce43</td>\n",
       "      <td>photo</td>\n",
       "      <td>healthy eating</td>\n",
       "      <td>https://socialbuzz.cdn.com/content/storage/9f7...</td>\n",
       "    </tr>\n",
       "    <tr>\n",
       "      <th>2</th>\n",
       "      <td>2</td>\n",
       "      <td>230c4e4d-70c3-461d-b42c-ec09396efb3f</td>\n",
       "      <td>a5c65404-5894-4b87-82f2-d787cbee86b4</td>\n",
       "      <td>photo</td>\n",
       "      <td>healthy eating</td>\n",
       "      <td>https://socialbuzz.cdn.com/content/storage/230...</td>\n",
       "    </tr>\n",
       "    <tr>\n",
       "      <th>3</th>\n",
       "      <td>3</td>\n",
       "      <td>356fff80-da4d-4785-9f43-bc1261031dc6</td>\n",
       "      <td>9fb4ce88-fac1-406c-8544-1a899cee7aaf</td>\n",
       "      <td>photo</td>\n",
       "      <td>technology</td>\n",
       "      <td>https://socialbuzz.cdn.com/content/storage/356...</td>\n",
       "    </tr>\n",
       "    <tr>\n",
       "      <th>4</th>\n",
       "      <td>4</td>\n",
       "      <td>01ab84dd-6364-4236-abbb-3f237db77180</td>\n",
       "      <td>e206e31b-5f85-4964-b6ea-d7ee5324def1</td>\n",
       "      <td>video</td>\n",
       "      <td>food</td>\n",
       "      <td>https://socialbuzz.cdn.com/content/storage/01a...</td>\n",
       "    </tr>\n",
       "  </tbody>\n",
       "</table>\n",
       "</div>"
      ],
      "text/plain": [
       "   Unnamed: 0                            Content ID  \\\n",
       "0           0  97522e57-d9ab-4bd6-97bf-c24d952602d2   \n",
       "1           1  9f737e0a-3cdd-4d29-9d24-753f4e3be810   \n",
       "2           2  230c4e4d-70c3-461d-b42c-ec09396efb3f   \n",
       "3           3  356fff80-da4d-4785-9f43-bc1261031dc6   \n",
       "4           4  01ab84dd-6364-4236-abbb-3f237db77180   \n",
       "\n",
       "                                User ID   Type        Category  \\\n",
       "0  8d3cd87d-8a31-4935-9a4f-b319bfe05f31  photo        Studying   \n",
       "1  beb1f34e-7870-46d6-9fc7-2e12eb83ce43  photo  healthy eating   \n",
       "2  a5c65404-5894-4b87-82f2-d787cbee86b4  photo  healthy eating   \n",
       "3  9fb4ce88-fac1-406c-8544-1a899cee7aaf  photo      technology   \n",
       "4  e206e31b-5f85-4964-b6ea-d7ee5324def1  video            food   \n",
       "\n",
       "                                                 URL  \n",
       "0  https://socialbuzz.cdn.com/content/storage/975...  \n",
       "1  https://socialbuzz.cdn.com/content/storage/9f7...  \n",
       "2  https://socialbuzz.cdn.com/content/storage/230...  \n",
       "3  https://socialbuzz.cdn.com/content/storage/356...  \n",
       "4  https://socialbuzz.cdn.com/content/storage/01a...  "
      ]
     },
     "execution_count": 2,
     "metadata": {},
     "output_type": "execute_result"
    }
   ],
   "source": [
    "content=pd.read_csv(\"/Users/farhana/Desktop/Pythondata/Accenture_Forage/Content.csv\")\n",
    "\n",
    "content.head()"
   ]
  },
  {
   "cell_type": "code",
   "execution_count": 3,
   "id": "81ee3a39",
   "metadata": {},
   "outputs": [
    {
     "data": {
      "text/html": [
       "<div>\n",
       "<style scoped>\n",
       "    .dataframe tbody tr th:only-of-type {\n",
       "        vertical-align: middle;\n",
       "    }\n",
       "\n",
       "    .dataframe tbody tr th {\n",
       "        vertical-align: top;\n",
       "    }\n",
       "\n",
       "    .dataframe thead th {\n",
       "        text-align: right;\n",
       "    }\n",
       "</style>\n",
       "<table border=\"1\" class=\"dataframe\">\n",
       "  <thead>\n",
       "    <tr style=\"text-align: right;\">\n",
       "      <th></th>\n",
       "      <th>Unnamed: 0</th>\n",
       "      <th>Content ID</th>\n",
       "      <th>User ID</th>\n",
       "      <th>Type</th>\n",
       "      <th>Datetime</th>\n",
       "    </tr>\n",
       "  </thead>\n",
       "  <tbody>\n",
       "    <tr>\n",
       "      <th>0</th>\n",
       "      <td>0</td>\n",
       "      <td>97522e57-d9ab-4bd6-97bf-c24d952602d2</td>\n",
       "      <td>NaN</td>\n",
       "      <td>NaN</td>\n",
       "      <td>2021-04-22 15:17:15</td>\n",
       "    </tr>\n",
       "    <tr>\n",
       "      <th>1</th>\n",
       "      <td>1</td>\n",
       "      <td>97522e57-d9ab-4bd6-97bf-c24d952602d2</td>\n",
       "      <td>5d454588-283d-459d-915d-c48a2cb4c27f</td>\n",
       "      <td>disgust</td>\n",
       "      <td>2020-11-07 09:43:50</td>\n",
       "    </tr>\n",
       "    <tr>\n",
       "      <th>2</th>\n",
       "      <td>2</td>\n",
       "      <td>97522e57-d9ab-4bd6-97bf-c24d952602d2</td>\n",
       "      <td>92b87fa5-f271-43e0-af66-84fac21052e6</td>\n",
       "      <td>dislike</td>\n",
       "      <td>2021-06-17 12:22:51</td>\n",
       "    </tr>\n",
       "    <tr>\n",
       "      <th>3</th>\n",
       "      <td>3</td>\n",
       "      <td>97522e57-d9ab-4bd6-97bf-c24d952602d2</td>\n",
       "      <td>163daa38-8b77-48c9-9af6-37a6c1447ac2</td>\n",
       "      <td>scared</td>\n",
       "      <td>2021-04-18 05:13:58</td>\n",
       "    </tr>\n",
       "    <tr>\n",
       "      <th>4</th>\n",
       "      <td>4</td>\n",
       "      <td>97522e57-d9ab-4bd6-97bf-c24d952602d2</td>\n",
       "      <td>34e8add9-0206-47fd-a501-037b994650a2</td>\n",
       "      <td>disgust</td>\n",
       "      <td>2021-01-06 19:13:01</td>\n",
       "    </tr>\n",
       "  </tbody>\n",
       "</table>\n",
       "</div>"
      ],
      "text/plain": [
       "   Unnamed: 0                            Content ID  \\\n",
       "0           0  97522e57-d9ab-4bd6-97bf-c24d952602d2   \n",
       "1           1  97522e57-d9ab-4bd6-97bf-c24d952602d2   \n",
       "2           2  97522e57-d9ab-4bd6-97bf-c24d952602d2   \n",
       "3           3  97522e57-d9ab-4bd6-97bf-c24d952602d2   \n",
       "4           4  97522e57-d9ab-4bd6-97bf-c24d952602d2   \n",
       "\n",
       "                                User ID     Type             Datetime  \n",
       "0                                   NaN      NaN  2021-04-22 15:17:15  \n",
       "1  5d454588-283d-459d-915d-c48a2cb4c27f  disgust  2020-11-07 09:43:50  \n",
       "2  92b87fa5-f271-43e0-af66-84fac21052e6  dislike  2021-06-17 12:22:51  \n",
       "3  163daa38-8b77-48c9-9af6-37a6c1447ac2   scared  2021-04-18 05:13:58  \n",
       "4  34e8add9-0206-47fd-a501-037b994650a2  disgust  2021-01-06 19:13:01  "
      ]
     },
     "execution_count": 3,
     "metadata": {},
     "output_type": "execute_result"
    }
   ],
   "source": [
    "reactions=pd.read_csv(\"/Users/farhana/Desktop/Pythondata/Accenture_Forage/Reactions.csv\")\n",
    "reactions.head()"
   ]
  },
  {
   "cell_type": "code",
   "execution_count": 122,
   "id": "b533627e",
   "metadata": {},
   "outputs": [
    {
     "data": {
      "text/html": [
       "<div>\n",
       "<style scoped>\n",
       "    .dataframe tbody tr th:only-of-type {\n",
       "        vertical-align: middle;\n",
       "    }\n",
       "\n",
       "    .dataframe tbody tr th {\n",
       "        vertical-align: top;\n",
       "    }\n",
       "\n",
       "    .dataframe thead th {\n",
       "        text-align: right;\n",
       "    }\n",
       "</style>\n",
       "<table border=\"1\" class=\"dataframe\">\n",
       "  <thead>\n",
       "    <tr style=\"text-align: right;\">\n",
       "      <th></th>\n",
       "      <th>Unnamed: 0</th>\n",
       "      <th>Type</th>\n",
       "      <th>Sentiment</th>\n",
       "      <th>Score</th>\n",
       "    </tr>\n",
       "  </thead>\n",
       "  <tbody>\n",
       "    <tr>\n",
       "      <th>0</th>\n",
       "      <td>0</td>\n",
       "      <td>heart</td>\n",
       "      <td>positive</td>\n",
       "      <td>60</td>\n",
       "    </tr>\n",
       "    <tr>\n",
       "      <th>1</th>\n",
       "      <td>1</td>\n",
       "      <td>want</td>\n",
       "      <td>positive</td>\n",
       "      <td>70</td>\n",
       "    </tr>\n",
       "    <tr>\n",
       "      <th>2</th>\n",
       "      <td>2</td>\n",
       "      <td>disgust</td>\n",
       "      <td>negative</td>\n",
       "      <td>0</td>\n",
       "    </tr>\n",
       "    <tr>\n",
       "      <th>3</th>\n",
       "      <td>3</td>\n",
       "      <td>hate</td>\n",
       "      <td>negative</td>\n",
       "      <td>5</td>\n",
       "    </tr>\n",
       "    <tr>\n",
       "      <th>4</th>\n",
       "      <td>4</td>\n",
       "      <td>interested</td>\n",
       "      <td>positive</td>\n",
       "      <td>30</td>\n",
       "    </tr>\n",
       "  </tbody>\n",
       "</table>\n",
       "</div>"
      ],
      "text/plain": [
       "   Unnamed: 0        Type Sentiment  Score\n",
       "0           0       heart  positive     60\n",
       "1           1        want  positive     70\n",
       "2           2     disgust  negative      0\n",
       "3           3        hate  negative      5\n",
       "4           4  interested  positive     30"
      ]
     },
     "execution_count": 122,
     "metadata": {},
     "output_type": "execute_result"
    }
   ],
   "source": [
    "reactiontype=pd.read_csv(\"/Users/farhana/Desktop/Pythondata/ReactionTypes.csv\")\n",
    "reactiontype.head()"
   ]
  },
  {
   "cell_type": "code",
   "execution_count": 123,
   "id": "6c8467a4",
   "metadata": {},
   "outputs": [
    {
     "name": "stdout",
     "output_type": "stream",
     "text": [
      "<class 'pandas.core.frame.DataFrame'>\n",
      "RangeIndex: 1000 entries, 0 to 999\n",
      "Data columns (total 6 columns):\n",
      " #   Column      Non-Null Count  Dtype \n",
      "---  ------      --------------  ----- \n",
      " 0   Unnamed: 0  1000 non-null   int64 \n",
      " 1   Content ID  1000 non-null   object\n",
      " 2   User ID     1000 non-null   object\n",
      " 3   Type        1000 non-null   object\n",
      " 4   Category    1000 non-null   object\n",
      " 5   URL         801 non-null    object\n",
      "dtypes: int64(1), object(5)\n",
      "memory usage: 47.0+ KB\n"
     ]
    }
   ],
   "source": [
    "content.info()"
   ]
  },
  {
   "cell_type": "markdown",
   "id": "66504203",
   "metadata": {},
   "source": [
    "### Step 1: Data cleansing"
   ]
  },
  {
   "cell_type": "code",
   "execution_count": 124,
   "id": "3665224a",
   "metadata": {},
   "outputs": [
    {
     "data": {
      "text/html": [
       "<div>\n",
       "<style scoped>\n",
       "    .dataframe tbody tr th:only-of-type {\n",
       "        vertical-align: middle;\n",
       "    }\n",
       "\n",
       "    .dataframe tbody tr th {\n",
       "        vertical-align: top;\n",
       "    }\n",
       "\n",
       "    .dataframe thead th {\n",
       "        text-align: right;\n",
       "    }\n",
       "</style>\n",
       "<table border=\"1\" class=\"dataframe\">\n",
       "  <thead>\n",
       "    <tr style=\"text-align: right;\">\n",
       "      <th></th>\n",
       "      <th>Unnamed: 0</th>\n",
       "      <th>Content ID</th>\n",
       "      <th>Type</th>\n",
       "      <th>Category</th>\n",
       "    </tr>\n",
       "  </thead>\n",
       "  <tbody>\n",
       "    <tr>\n",
       "      <th>0</th>\n",
       "      <td>0</td>\n",
       "      <td>97522e57-d9ab-4bd6-97bf-c24d952602d2</td>\n",
       "      <td>photo</td>\n",
       "      <td>Studying</td>\n",
       "    </tr>\n",
       "    <tr>\n",
       "      <th>1</th>\n",
       "      <td>1</td>\n",
       "      <td>9f737e0a-3cdd-4d29-9d24-753f4e3be810</td>\n",
       "      <td>photo</td>\n",
       "      <td>healthy eating</td>\n",
       "    </tr>\n",
       "    <tr>\n",
       "      <th>2</th>\n",
       "      <td>2</td>\n",
       "      <td>230c4e4d-70c3-461d-b42c-ec09396efb3f</td>\n",
       "      <td>photo</td>\n",
       "      <td>healthy eating</td>\n",
       "    </tr>\n",
       "    <tr>\n",
       "      <th>3</th>\n",
       "      <td>3</td>\n",
       "      <td>356fff80-da4d-4785-9f43-bc1261031dc6</td>\n",
       "      <td>photo</td>\n",
       "      <td>technology</td>\n",
       "    </tr>\n",
       "    <tr>\n",
       "      <th>4</th>\n",
       "      <td>4</td>\n",
       "      <td>01ab84dd-6364-4236-abbb-3f237db77180</td>\n",
       "      <td>video</td>\n",
       "      <td>food</td>\n",
       "    </tr>\n",
       "  </tbody>\n",
       "</table>\n",
       "</div>"
      ],
      "text/plain": [
       "   Unnamed: 0                            Content ID   Type        Category\n",
       "0           0  97522e57-d9ab-4bd6-97bf-c24d952602d2  photo        Studying\n",
       "1           1  9f737e0a-3cdd-4d29-9d24-753f4e3be810  photo  healthy eating\n",
       "2           2  230c4e4d-70c3-461d-b42c-ec09396efb3f  photo  healthy eating\n",
       "3           3  356fff80-da4d-4785-9f43-bc1261031dc6  photo      technology\n",
       "4           4  01ab84dd-6364-4236-abbb-3f237db77180  video            food"
      ]
     },
     "execution_count": 124,
     "metadata": {},
     "output_type": "execute_result"
    }
   ],
   "source": [
    "content.drop(columns=['User ID','URL'], inplace=True)\n",
    "content.head()"
   ]
  },
  {
   "cell_type": "code",
   "execution_count": 125,
   "id": "80beb653",
   "metadata": {},
   "outputs": [
    {
     "name": "stdout",
     "output_type": "stream",
     "text": [
      "There are 17 rows still containing quotation marks.\n"
     ]
    }
   ],
   "source": [
    "rows_with_quotes = content['Category'].str.contains('\"').sum()\n",
    "\n",
    "if rows_with_quotes == 0:\n",
    "    print(\"All quotation marks have been replaced.\")\n",
    "else:\n",
    "    print(f\"There are {rows_with_quotes} rows still containing quotation marks.\")"
   ]
  },
  {
   "cell_type": "code",
   "execution_count": 126,
   "id": "3e5bf382",
   "metadata": {},
   "outputs": [],
   "source": [
    "#Replace the quotation marks in some Category columns\n",
    "\n",
    "content['Category']=content['Category'].replace({'[\"\"]':''},regex=True)\n"
   ]
  },
  {
   "cell_type": "code",
   "execution_count": 127,
   "id": "98037b03",
   "metadata": {},
   "outputs": [
    {
     "name": "stdout",
     "output_type": "stream",
     "text": [
      "All quotation marks have been replaced.\n"
     ]
    }
   ],
   "source": [
    "rows_with_quotes = content['Category'].str.contains('\"').sum()\n",
    "if rows_with_quotes == 0:\n",
    "    print(\"All quotation marks have been replaced.\")\n",
    "else:\n",
    "    print(f\"There are {rows_with_quotes} rows still containing quotation marks.\")"
   ]
  },
  {
   "cell_type": "code",
   "execution_count": 6,
   "id": "86989519",
   "metadata": {},
   "outputs": [
    {
     "name": "stdout",
     "output_type": "stream",
     "text": [
      "Unnamed: 0                                      50\n",
      "Content ID    2d949603-6676-4402-900b-2c2c78315ea0\n",
      "User ID       4baf648a-0ad5-412d-8250-5a0ff9289fbf\n",
      "Type                                         audio\n",
      "Category                                 \"culture\"\n",
      "URL                                            NaN\n",
      "Name: 50, dtype: object\n"
     ]
    }
   ],
   "source": [
    "print(content.loc[50])"
   ]
  },
  {
   "cell_type": "code",
   "execution_count": 129,
   "id": "fd463150",
   "metadata": {},
   "outputs": [
    {
     "name": "stdout",
     "output_type": "stream",
     "text": [
      "Empty DataFrame\n",
      "Columns: [Unnamed: 0, Content ID, Type, Category]\n",
      "Index: []\n"
     ]
    }
   ],
   "source": [
    "# Check for any missings in 'content' dataset\n",
    "missing_rows = content[content.isnull().any(axis=1)]\n",
    "print(missing_rows)"
   ]
  },
  {
   "cell_type": "code",
   "execution_count": 130,
   "id": "2a5169a9",
   "metadata": {},
   "outputs": [
    {
     "name": "stdout",
     "output_type": "stream",
     "text": [
      "<class 'pandas.core.frame.DataFrame'>\n",
      "RangeIndex: 1000 entries, 0 to 999\n",
      "Data columns (total 4 columns):\n",
      " #   Column      Non-Null Count  Dtype \n",
      "---  ------      --------------  ----- \n",
      " 0   Unnamed: 0  1000 non-null   int64 \n",
      " 1   Content ID  1000 non-null   object\n",
      " 2   Type        1000 non-null   object\n",
      " 3   Category    1000 non-null   object\n",
      "dtypes: int64(1), object(3)\n",
      "memory usage: 31.4+ KB\n"
     ]
    }
   ],
   "source": [
    "content_nomissrow=content.dropna()\n",
    "content_nomissrow.info()"
   ]
  },
  {
   "cell_type": "code",
   "execution_count": 131,
   "id": "da0272b8",
   "metadata": {},
   "outputs": [
    {
     "data": {
      "text/html": [
       "<div>\n",
       "<style scoped>\n",
       "    .dataframe tbody tr th:only-of-type {\n",
       "        vertical-align: middle;\n",
       "    }\n",
       "\n",
       "    .dataframe tbody tr th {\n",
       "        vertical-align: top;\n",
       "    }\n",
       "\n",
       "    .dataframe thead th {\n",
       "        text-align: right;\n",
       "    }\n",
       "</style>\n",
       "<table border=\"1\" class=\"dataframe\">\n",
       "  <thead>\n",
       "    <tr style=\"text-align: right;\">\n",
       "      <th></th>\n",
       "      <th>Unnamed: 0</th>\n",
       "      <th>Content ID</th>\n",
       "      <th>User ID</th>\n",
       "      <th>Content Type</th>\n",
       "      <th>Category</th>\n",
       "    </tr>\n",
       "  </thead>\n",
       "  <tbody>\n",
       "    <tr>\n",
       "      <th>0</th>\n",
       "      <td>0</td>\n",
       "      <td>97522e57-d9ab-4bd6-97bf-c24d952602d2</td>\n",
       "      <td>8d3cd87d-8a31-4935-9a4f-b319bfe05f31</td>\n",
       "      <td>photo</td>\n",
       "      <td>Studying</td>\n",
       "    </tr>\n",
       "    <tr>\n",
       "      <th>1</th>\n",
       "      <td>1</td>\n",
       "      <td>9f737e0a-3cdd-4d29-9d24-753f4e3be810</td>\n",
       "      <td>beb1f34e-7870-46d6-9fc7-2e12eb83ce43</td>\n",
       "      <td>photo</td>\n",
       "      <td>healthy eating</td>\n",
       "    </tr>\n",
       "    <tr>\n",
       "      <th>2</th>\n",
       "      <td>2</td>\n",
       "      <td>230c4e4d-70c3-461d-b42c-ec09396efb3f</td>\n",
       "      <td>a5c65404-5894-4b87-82f2-d787cbee86b4</td>\n",
       "      <td>photo</td>\n",
       "      <td>healthy eating</td>\n",
       "    </tr>\n",
       "    <tr>\n",
       "      <th>3</th>\n",
       "      <td>3</td>\n",
       "      <td>356fff80-da4d-4785-9f43-bc1261031dc6</td>\n",
       "      <td>9fb4ce88-fac1-406c-8544-1a899cee7aaf</td>\n",
       "      <td>photo</td>\n",
       "      <td>technology</td>\n",
       "    </tr>\n",
       "    <tr>\n",
       "      <th>4</th>\n",
       "      <td>4</td>\n",
       "      <td>01ab84dd-6364-4236-abbb-3f237db77180</td>\n",
       "      <td>e206e31b-5f85-4964-b6ea-d7ee5324def1</td>\n",
       "      <td>video</td>\n",
       "      <td>food</td>\n",
       "    </tr>\n",
       "  </tbody>\n",
       "</table>\n",
       "</div>"
      ],
      "text/plain": [
       "   Unnamed: 0                            Content ID  \\\n",
       "0           0  97522e57-d9ab-4bd6-97bf-c24d952602d2   \n",
       "1           1  9f737e0a-3cdd-4d29-9d24-753f4e3be810   \n",
       "2           2  230c4e4d-70c3-461d-b42c-ec09396efb3f   \n",
       "3           3  356fff80-da4d-4785-9f43-bc1261031dc6   \n",
       "4           4  01ab84dd-6364-4236-abbb-3f237db77180   \n",
       "\n",
       "                                User ID Content Type        Category  \n",
       "0  8d3cd87d-8a31-4935-9a4f-b319bfe05f31        photo        Studying  \n",
       "1  beb1f34e-7870-46d6-9fc7-2e12eb83ce43        photo  healthy eating  \n",
       "2  a5c65404-5894-4b87-82f2-d787cbee86b4        photo  healthy eating  \n",
       "3  9fb4ce88-fac1-406c-8544-1a899cee7aaf        photo      technology  \n",
       "4  e206e31b-5f85-4964-b6ea-d7ee5324def1        video            food  "
      ]
     },
     "execution_count": 131,
     "metadata": {},
     "output_type": "execute_result"
    }
   ],
   "source": [
    "content=content_nomisscol.rename(columns={'Type':'Content Type'})\n",
    "content.head()"
   ]
  },
  {
   "cell_type": "markdown",
   "id": "1a15129b",
   "metadata": {},
   "source": [
    "Data cleansing for 'reactions' dataframe"
   ]
  },
  {
   "cell_type": "code",
   "execution_count": 132,
   "id": "83c55a74",
   "metadata": {},
   "outputs": [
    {
     "name": "stdout",
     "output_type": "stream",
     "text": [
      "<class 'pandas.core.frame.DataFrame'>\n",
      "RangeIndex: 25553 entries, 0 to 25552\n",
      "Data columns (total 5 columns):\n",
      " #   Column      Non-Null Count  Dtype \n",
      "---  ------      --------------  ----- \n",
      " 0   Unnamed: 0  25553 non-null  int64 \n",
      " 1   Content ID  25553 non-null  object\n",
      " 2   User ID     22534 non-null  object\n",
      " 3   Type        24573 non-null  object\n",
      " 4   Datetime    25553 non-null  object\n",
      "dtypes: int64(1), object(4)\n",
      "memory usage: 998.3+ KB\n"
     ]
    }
   ],
   "source": [
    "reactions.info()"
   ]
  },
  {
   "cell_type": "code",
   "execution_count": 133,
   "id": "e46a2d0a",
   "metadata": {},
   "outputs": [
    {
     "data": {
      "text/html": [
       "<div>\n",
       "<style scoped>\n",
       "    .dataframe tbody tr th:only-of-type {\n",
       "        vertical-align: middle;\n",
       "    }\n",
       "\n",
       "    .dataframe tbody tr th {\n",
       "        vertical-align: top;\n",
       "    }\n",
       "\n",
       "    .dataframe thead th {\n",
       "        text-align: right;\n",
       "    }\n",
       "</style>\n",
       "<table border=\"1\" class=\"dataframe\">\n",
       "  <thead>\n",
       "    <tr style=\"text-align: right;\">\n",
       "      <th></th>\n",
       "      <th>Unnamed: 0</th>\n",
       "      <th>Content ID</th>\n",
       "      <th>Type</th>\n",
       "      <th>Datetime</th>\n",
       "    </tr>\n",
       "  </thead>\n",
       "  <tbody>\n",
       "    <tr>\n",
       "      <th>0</th>\n",
       "      <td>0</td>\n",
       "      <td>97522e57-d9ab-4bd6-97bf-c24d952602d2</td>\n",
       "      <td>NaN</td>\n",
       "      <td>2021-04-22 15:17:15</td>\n",
       "    </tr>\n",
       "    <tr>\n",
       "      <th>1</th>\n",
       "      <td>1</td>\n",
       "      <td>97522e57-d9ab-4bd6-97bf-c24d952602d2</td>\n",
       "      <td>disgust</td>\n",
       "      <td>2020-11-07 09:43:50</td>\n",
       "    </tr>\n",
       "    <tr>\n",
       "      <th>2</th>\n",
       "      <td>2</td>\n",
       "      <td>97522e57-d9ab-4bd6-97bf-c24d952602d2</td>\n",
       "      <td>dislike</td>\n",
       "      <td>2021-06-17 12:22:51</td>\n",
       "    </tr>\n",
       "    <tr>\n",
       "      <th>3</th>\n",
       "      <td>3</td>\n",
       "      <td>97522e57-d9ab-4bd6-97bf-c24d952602d2</td>\n",
       "      <td>scared</td>\n",
       "      <td>2021-04-18 05:13:58</td>\n",
       "    </tr>\n",
       "    <tr>\n",
       "      <th>4</th>\n",
       "      <td>4</td>\n",
       "      <td>97522e57-d9ab-4bd6-97bf-c24d952602d2</td>\n",
       "      <td>disgust</td>\n",
       "      <td>2021-01-06 19:13:01</td>\n",
       "    </tr>\n",
       "  </tbody>\n",
       "</table>\n",
       "</div>"
      ],
      "text/plain": [
       "   Unnamed: 0                            Content ID     Type  \\\n",
       "0           0  97522e57-d9ab-4bd6-97bf-c24d952602d2      NaN   \n",
       "1           1  97522e57-d9ab-4bd6-97bf-c24d952602d2  disgust   \n",
       "2           2  97522e57-d9ab-4bd6-97bf-c24d952602d2  dislike   \n",
       "3           3  97522e57-d9ab-4bd6-97bf-c24d952602d2   scared   \n",
       "4           4  97522e57-d9ab-4bd6-97bf-c24d952602d2  disgust   \n",
       "\n",
       "              Datetime  \n",
       "0  2021-04-22 15:17:15  \n",
       "1  2020-11-07 09:43:50  \n",
       "2  2021-06-17 12:22:51  \n",
       "3  2021-04-18 05:13:58  \n",
       "4  2021-01-06 19:13:01  "
      ]
     },
     "execution_count": 133,
     "metadata": {},
     "output_type": "execute_result"
    }
   ],
   "source": [
    "reactions.drop(columns=['User ID'], inplace=True)\n",
    "reactions.head()\n"
   ]
  },
  {
   "cell_type": "code",
   "execution_count": 134,
   "id": "08e136df",
   "metadata": {},
   "outputs": [
    {
     "data": {
      "text/html": [
       "<div>\n",
       "<style scoped>\n",
       "    .dataframe tbody tr th:only-of-type {\n",
       "        vertical-align: middle;\n",
       "    }\n",
       "\n",
       "    .dataframe tbody tr th {\n",
       "        vertical-align: top;\n",
       "    }\n",
       "\n",
       "    .dataframe thead th {\n",
       "        text-align: right;\n",
       "    }\n",
       "</style>\n",
       "<table border=\"1\" class=\"dataframe\">\n",
       "  <thead>\n",
       "    <tr style=\"text-align: right;\">\n",
       "      <th></th>\n",
       "      <th>Unnamed: 0</th>\n",
       "      <th>Content ID</th>\n",
       "      <th>Reaction Type</th>\n",
       "      <th>Datetime</th>\n",
       "    </tr>\n",
       "  </thead>\n",
       "  <tbody>\n",
       "    <tr>\n",
       "      <th>0</th>\n",
       "      <td>0</td>\n",
       "      <td>97522e57-d9ab-4bd6-97bf-c24d952602d2</td>\n",
       "      <td>NaN</td>\n",
       "      <td>2021-04-22 15:17:15</td>\n",
       "    </tr>\n",
       "    <tr>\n",
       "      <th>1</th>\n",
       "      <td>1</td>\n",
       "      <td>97522e57-d9ab-4bd6-97bf-c24d952602d2</td>\n",
       "      <td>disgust</td>\n",
       "      <td>2020-11-07 09:43:50</td>\n",
       "    </tr>\n",
       "    <tr>\n",
       "      <th>2</th>\n",
       "      <td>2</td>\n",
       "      <td>97522e57-d9ab-4bd6-97bf-c24d952602d2</td>\n",
       "      <td>dislike</td>\n",
       "      <td>2021-06-17 12:22:51</td>\n",
       "    </tr>\n",
       "    <tr>\n",
       "      <th>3</th>\n",
       "      <td>3</td>\n",
       "      <td>97522e57-d9ab-4bd6-97bf-c24d952602d2</td>\n",
       "      <td>scared</td>\n",
       "      <td>2021-04-18 05:13:58</td>\n",
       "    </tr>\n",
       "    <tr>\n",
       "      <th>4</th>\n",
       "      <td>4</td>\n",
       "      <td>97522e57-d9ab-4bd6-97bf-c24d952602d2</td>\n",
       "      <td>disgust</td>\n",
       "      <td>2021-01-06 19:13:01</td>\n",
       "    </tr>\n",
       "  </tbody>\n",
       "</table>\n",
       "</div>"
      ],
      "text/plain": [
       "   Unnamed: 0                            Content ID Reaction Type  \\\n",
       "0           0  97522e57-d9ab-4bd6-97bf-c24d952602d2           NaN   \n",
       "1           1  97522e57-d9ab-4bd6-97bf-c24d952602d2       disgust   \n",
       "2           2  97522e57-d9ab-4bd6-97bf-c24d952602d2       dislike   \n",
       "3           3  97522e57-d9ab-4bd6-97bf-c24d952602d2        scared   \n",
       "4           4  97522e57-d9ab-4bd6-97bf-c24d952602d2       disgust   \n",
       "\n",
       "              Datetime  \n",
       "0  2021-04-22 15:17:15  \n",
       "1  2020-11-07 09:43:50  \n",
       "2  2021-06-17 12:22:51  \n",
       "3  2021-04-18 05:13:58  \n",
       "4  2021-01-06 19:13:01  "
      ]
     },
     "execution_count": 134,
     "metadata": {},
     "output_type": "execute_result"
    }
   ],
   "source": [
    "reactions=reactions.rename(columns={'Type':'Reaction Type'})\n",
    "reactions.head()"
   ]
  },
  {
   "cell_type": "code",
   "execution_count": 135,
   "id": "c3de5384",
   "metadata": {},
   "outputs": [
    {
     "name": "stdout",
     "output_type": "stream",
     "text": [
      "       Unnamed: 0  Content ID  Reaction Type  Datetime\n",
      "0           False       False           True     False\n",
      "1           False       False          False     False\n",
      "2           False       False          False     False\n",
      "3           False       False          False     False\n",
      "4           False       False          False     False\n",
      "...           ...         ...            ...       ...\n",
      "25548       False       False          False     False\n",
      "25549       False       False          False     False\n",
      "25550       False       False          False     False\n",
      "25551       False       False          False     False\n",
      "25552       False       False          False     False\n",
      "\n",
      "[25553 rows x 4 columns]\n"
     ]
    }
   ],
   "source": [
    "missing_values=reactions.isnull()\n",
    "print(missing_values)"
   ]
  },
  {
   "cell_type": "code",
   "execution_count": 136,
   "id": "076dc02b",
   "metadata": {},
   "outputs": [
    {
     "name": "stdout",
     "output_type": "stream",
     "text": [
      "       Unnamed: 0                            Content ID Reaction Type  \\\n",
      "0               0  97522e57-d9ab-4bd6-97bf-c24d952602d2           NaN   \n",
      "46             46  9f737e0a-3cdd-4d29-9d24-753f4e3be810           NaN   \n",
      "62             62  230c4e4d-70c3-461d-b42c-ec09396efb3f           NaN   \n",
      "94             94  356fff80-da4d-4785-9f43-bc1261031dc6           NaN   \n",
      "102           102  01ab84dd-6364-4236-abbb-3f237db77180           NaN   \n",
      "...           ...                                   ...           ...   \n",
      "25445       25445  b4cef9ef-627b-41d7-a051-5961b0204ebb           NaN   \n",
      "25449       25449  7a79f4e4-3b7d-44dc-bdef-bc990740252c           NaN   \n",
      "25454       25454  435007a5-6261-4d8b-b0a4-55fdc189754b           NaN   \n",
      "25499       25499  4e4c9690-c013-4ee7-9e66-943d8cbd27b7           NaN   \n",
      "25540       25540  75d6b589-7fae-4a6d-b0d0-752845150e56           NaN   \n",
      "\n",
      "                  Datetime  \n",
      "0      2021-04-22 15:17:15  \n",
      "46     2020-12-04 20:00:31  \n",
      "62     2021-03-19 08:19:38  \n",
      "94     2020-08-28 23:43:55  \n",
      "102    2021-02-08 21:55:56  \n",
      "...                    ...  \n",
      "25445  2020-11-30 15:26:32  \n",
      "25449  2021-04-04 19:39:36  \n",
      "25454  2021-01-04 20:28:29  \n",
      "25499  2021-05-25 18:05:31  \n",
      "25540  2021-04-25 05:09:20  \n",
      "\n",
      "[980 rows x 4 columns]\n"
     ]
    }
   ],
   "source": [
    "missing_rows = reactions[reactions.isnull().any(axis=1)]\n",
    "print(missing_rows)"
   ]
  },
  {
   "cell_type": "code",
   "execution_count": 139,
   "id": "f2064e1a",
   "metadata": {},
   "outputs": [
    {
     "name": "stdout",
     "output_type": "stream",
     "text": [
      "<class 'pandas.core.frame.DataFrame'>\n",
      "Int64Index: 24573 entries, 1 to 25552\n",
      "Data columns (total 4 columns):\n",
      " #   Column         Non-Null Count  Dtype \n",
      "---  ------         --------------  ----- \n",
      " 0   Unnamed: 0     24573 non-null  int64 \n",
      " 1   Content ID     24573 non-null  object\n",
      " 2   Reaction Type  24573 non-null  object\n",
      " 3   Datetime       24573 non-null  object\n",
      "dtypes: int64(1), object(3)\n",
      "memory usage: 959.9+ KB\n"
     ]
    }
   ],
   "source": [
    "reactions=reactions.dropna()\n",
    "reactions.info()"
   ]
  },
  {
   "cell_type": "code",
   "execution_count": 140,
   "id": "96405eac",
   "metadata": {},
   "outputs": [
    {
     "name": "stdout",
     "output_type": "stream",
     "text": [
      "       Unnamed: 0  Content ID  Reaction Type  Datetime\n",
      "1           False       False          False     False\n",
      "2           False       False          False     False\n",
      "3           False       False          False     False\n",
      "4           False       False          False     False\n",
      "5           False       False          False     False\n",
      "...           ...         ...            ...       ...\n",
      "25548       False       False          False     False\n",
      "25549       False       False          False     False\n",
      "25550       False       False          False     False\n",
      "25551       False       False          False     False\n",
      "25552       False       False          False     False\n",
      "\n",
      "[24573 rows x 4 columns]\n"
     ]
    }
   ],
   "source": [
    "missing_values=reactions.isnull()\n",
    "print(missing_values)"
   ]
  },
  {
   "cell_type": "markdown",
   "id": "ec5ccb9b",
   "metadata": {},
   "source": [
    "Data cleansing for 'reactiontype' dataframe"
   ]
  },
  {
   "cell_type": "code",
   "execution_count": 141,
   "id": "aea1e226",
   "metadata": {},
   "outputs": [
    {
     "name": "stdout",
     "output_type": "stream",
     "text": [
      "<class 'pandas.core.frame.DataFrame'>\n",
      "RangeIndex: 16 entries, 0 to 15\n",
      "Data columns (total 4 columns):\n",
      " #   Column      Non-Null Count  Dtype \n",
      "---  ------      --------------  ----- \n",
      " 0   Unnamed: 0  16 non-null     int64 \n",
      " 1   Type        16 non-null     object\n",
      " 2   Sentiment   16 non-null     object\n",
      " 3   Score       16 non-null     int64 \n",
      "dtypes: int64(2), object(2)\n",
      "memory usage: 644.0+ bytes\n"
     ]
    }
   ],
   "source": [
    "reactiontype.info()"
   ]
  },
  {
   "cell_type": "code",
   "execution_count": 142,
   "id": "1b635485",
   "metadata": {},
   "outputs": [
    {
     "name": "stdout",
     "output_type": "stream",
     "text": [
      "    Unnamed: 0         Type Sentiment  Score\n",
      "0            0        heart  positive     60\n",
      "1            1         want  positive     70\n",
      "2            2      disgust  negative      0\n",
      "3            3         hate  negative      5\n",
      "4            4   interested  positive     30\n",
      "5            5  indifferent   neutral     20\n",
      "6            6         love  positive     65\n",
      "7            7   super love  positive     75\n",
      "8            8      cherish  positive     70\n",
      "9            9        adore  positive     72\n",
      "10          10         like  positive     50\n",
      "11          11      dislike  negative     10\n",
      "12          12    intrigued  positive     45\n",
      "13          13      peeking   neutral     35\n",
      "14          14       scared  negative     15\n",
      "15          15      worried  negative     12\n"
     ]
    }
   ],
   "source": [
    "print(reactiontype)"
   ]
  },
  {
   "cell_type": "code",
   "execution_count": 143,
   "id": "0a8fd48a",
   "metadata": {},
   "outputs": [
    {
     "name": "stdout",
     "output_type": "stream",
     "text": [
      "    Unnamed: 0 Reaction Type Sentiment  Score\n",
      "0            0         heart  positive     60\n",
      "1            1          want  positive     70\n",
      "2            2       disgust  negative      0\n",
      "3            3          hate  negative      5\n",
      "4            4    interested  positive     30\n",
      "5            5   indifferent   neutral     20\n",
      "6            6          love  positive     65\n",
      "7            7    super love  positive     75\n",
      "8            8       cherish  positive     70\n",
      "9            9         adore  positive     72\n",
      "10          10          like  positive     50\n",
      "11          11       dislike  negative     10\n",
      "12          12     intrigued  positive     45\n",
      "13          13       peeking   neutral     35\n",
      "14          14        scared  negative     15\n",
      "15          15       worried  negative     12\n"
     ]
    }
   ],
   "source": [
    "reactiontype=reactiontype.rename(columns={'Type':'Reaction Type'})\n",
    "print(reactiontype)"
   ]
  },
  {
   "cell_type": "code",
   "execution_count": 144,
   "id": "71d086dd",
   "metadata": {},
   "outputs": [
    {
     "data": {
      "text/html": [
       "<div>\n",
       "<style scoped>\n",
       "    .dataframe tbody tr th:only-of-type {\n",
       "        vertical-align: middle;\n",
       "    }\n",
       "\n",
       "    .dataframe tbody tr th {\n",
       "        vertical-align: top;\n",
       "    }\n",
       "\n",
       "    .dataframe thead th {\n",
       "        text-align: right;\n",
       "    }\n",
       "</style>\n",
       "<table border=\"1\" class=\"dataframe\">\n",
       "  <thead>\n",
       "    <tr style=\"text-align: right;\">\n",
       "      <th></th>\n",
       "      <th>Unnamed: 0</th>\n",
       "      <th>Reaction Type</th>\n",
       "      <th>Sentiment</th>\n",
       "      <th>Score</th>\n",
       "    </tr>\n",
       "  </thead>\n",
       "  <tbody>\n",
       "    <tr>\n",
       "      <th>0</th>\n",
       "      <td>0</td>\n",
       "      <td>heart</td>\n",
       "      <td>positive</td>\n",
       "      <td>60</td>\n",
       "    </tr>\n",
       "    <tr>\n",
       "      <th>1</th>\n",
       "      <td>1</td>\n",
       "      <td>want</td>\n",
       "      <td>positive</td>\n",
       "      <td>70</td>\n",
       "    </tr>\n",
       "    <tr>\n",
       "      <th>2</th>\n",
       "      <td>2</td>\n",
       "      <td>disgust</td>\n",
       "      <td>negative</td>\n",
       "      <td>0</td>\n",
       "    </tr>\n",
       "    <tr>\n",
       "      <th>3</th>\n",
       "      <td>3</td>\n",
       "      <td>hate</td>\n",
       "      <td>negative</td>\n",
       "      <td>5</td>\n",
       "    </tr>\n",
       "    <tr>\n",
       "      <th>4</th>\n",
       "      <td>4</td>\n",
       "      <td>interested</td>\n",
       "      <td>positive</td>\n",
       "      <td>30</td>\n",
       "    </tr>\n",
       "  </tbody>\n",
       "</table>\n",
       "</div>"
      ],
      "text/plain": [
       "   Unnamed: 0 Reaction Type Sentiment  Score\n",
       "0           0         heart  positive     60\n",
       "1           1          want  positive     70\n",
       "2           2       disgust  negative      0\n",
       "3           3          hate  negative      5\n",
       "4           4    interested  positive     30"
      ]
     },
     "execution_count": 144,
     "metadata": {},
     "output_type": "execute_result"
    }
   ],
   "source": [
    "reactiontype.head()"
   ]
  },
  {
   "cell_type": "code",
   "execution_count": 145,
   "id": "3028cd82",
   "metadata": {
    "scrolled": true
   },
   "outputs": [
    {
     "data": {
      "text/html": [
       "<div>\n",
       "<style scoped>\n",
       "    .dataframe tbody tr th:only-of-type {\n",
       "        vertical-align: middle;\n",
       "    }\n",
       "\n",
       "    .dataframe tbody tr th {\n",
       "        vertical-align: top;\n",
       "    }\n",
       "\n",
       "    .dataframe thead th {\n",
       "        text-align: right;\n",
       "    }\n",
       "</style>\n",
       "<table border=\"1\" class=\"dataframe\">\n",
       "  <thead>\n",
       "    <tr style=\"text-align: right;\">\n",
       "      <th></th>\n",
       "      <th>Unnamed: 0</th>\n",
       "      <th>Content ID</th>\n",
       "      <th>Reaction Type</th>\n",
       "      <th>Datetime</th>\n",
       "    </tr>\n",
       "  </thead>\n",
       "  <tbody>\n",
       "    <tr>\n",
       "      <th>1</th>\n",
       "      <td>1</td>\n",
       "      <td>97522e57-d9ab-4bd6-97bf-c24d952602d2</td>\n",
       "      <td>disgust</td>\n",
       "      <td>2020-11-07 09:43:50</td>\n",
       "    </tr>\n",
       "    <tr>\n",
       "      <th>2</th>\n",
       "      <td>2</td>\n",
       "      <td>97522e57-d9ab-4bd6-97bf-c24d952602d2</td>\n",
       "      <td>dislike</td>\n",
       "      <td>2021-06-17 12:22:51</td>\n",
       "    </tr>\n",
       "    <tr>\n",
       "      <th>3</th>\n",
       "      <td>3</td>\n",
       "      <td>97522e57-d9ab-4bd6-97bf-c24d952602d2</td>\n",
       "      <td>scared</td>\n",
       "      <td>2021-04-18 05:13:58</td>\n",
       "    </tr>\n",
       "    <tr>\n",
       "      <th>4</th>\n",
       "      <td>4</td>\n",
       "      <td>97522e57-d9ab-4bd6-97bf-c24d952602d2</td>\n",
       "      <td>disgust</td>\n",
       "      <td>2021-01-06 19:13:01</td>\n",
       "    </tr>\n",
       "    <tr>\n",
       "      <th>5</th>\n",
       "      <td>5</td>\n",
       "      <td>97522e57-d9ab-4bd6-97bf-c24d952602d2</td>\n",
       "      <td>interested</td>\n",
       "      <td>2020-08-23 12:25:58</td>\n",
       "    </tr>\n",
       "  </tbody>\n",
       "</table>\n",
       "</div>"
      ],
      "text/plain": [
       "   Unnamed: 0                            Content ID Reaction Type  \\\n",
       "1           1  97522e57-d9ab-4bd6-97bf-c24d952602d2       disgust   \n",
       "2           2  97522e57-d9ab-4bd6-97bf-c24d952602d2       dislike   \n",
       "3           3  97522e57-d9ab-4bd6-97bf-c24d952602d2        scared   \n",
       "4           4  97522e57-d9ab-4bd6-97bf-c24d952602d2       disgust   \n",
       "5           5  97522e57-d9ab-4bd6-97bf-c24d952602d2    interested   \n",
       "\n",
       "              Datetime  \n",
       "1  2020-11-07 09:43:50  \n",
       "2  2021-06-17 12:22:51  \n",
       "3  2021-04-18 05:13:58  \n",
       "4  2021-01-06 19:13:01  \n",
       "5  2020-08-23 12:25:58  "
      ]
     },
     "execution_count": 145,
     "metadata": {},
     "output_type": "execute_result"
    }
   ],
   "source": [
    "reactions.head()"
   ]
  },
  {
   "cell_type": "code",
   "execution_count": 146,
   "id": "8a334b6b",
   "metadata": {},
   "outputs": [
    {
     "data": {
      "text/html": [
       "<div>\n",
       "<style scoped>\n",
       "    .dataframe tbody tr th:only-of-type {\n",
       "        vertical-align: middle;\n",
       "    }\n",
       "\n",
       "    .dataframe tbody tr th {\n",
       "        vertical-align: top;\n",
       "    }\n",
       "\n",
       "    .dataframe thead th {\n",
       "        text-align: right;\n",
       "    }\n",
       "</style>\n",
       "<table border=\"1\" class=\"dataframe\">\n",
       "  <thead>\n",
       "    <tr style=\"text-align: right;\">\n",
       "      <th></th>\n",
       "      <th>Unnamed: 0</th>\n",
       "      <th>Content ID</th>\n",
       "      <th>User ID</th>\n",
       "      <th>Content Type</th>\n",
       "      <th>Category</th>\n",
       "    </tr>\n",
       "  </thead>\n",
       "  <tbody>\n",
       "    <tr>\n",
       "      <th>0</th>\n",
       "      <td>0</td>\n",
       "      <td>97522e57-d9ab-4bd6-97bf-c24d952602d2</td>\n",
       "      <td>8d3cd87d-8a31-4935-9a4f-b319bfe05f31</td>\n",
       "      <td>photo</td>\n",
       "      <td>Studying</td>\n",
       "    </tr>\n",
       "    <tr>\n",
       "      <th>1</th>\n",
       "      <td>1</td>\n",
       "      <td>9f737e0a-3cdd-4d29-9d24-753f4e3be810</td>\n",
       "      <td>beb1f34e-7870-46d6-9fc7-2e12eb83ce43</td>\n",
       "      <td>photo</td>\n",
       "      <td>healthy eating</td>\n",
       "    </tr>\n",
       "    <tr>\n",
       "      <th>2</th>\n",
       "      <td>2</td>\n",
       "      <td>230c4e4d-70c3-461d-b42c-ec09396efb3f</td>\n",
       "      <td>a5c65404-5894-4b87-82f2-d787cbee86b4</td>\n",
       "      <td>photo</td>\n",
       "      <td>healthy eating</td>\n",
       "    </tr>\n",
       "    <tr>\n",
       "      <th>3</th>\n",
       "      <td>3</td>\n",
       "      <td>356fff80-da4d-4785-9f43-bc1261031dc6</td>\n",
       "      <td>9fb4ce88-fac1-406c-8544-1a899cee7aaf</td>\n",
       "      <td>photo</td>\n",
       "      <td>technology</td>\n",
       "    </tr>\n",
       "    <tr>\n",
       "      <th>4</th>\n",
       "      <td>4</td>\n",
       "      <td>01ab84dd-6364-4236-abbb-3f237db77180</td>\n",
       "      <td>e206e31b-5f85-4964-b6ea-d7ee5324def1</td>\n",
       "      <td>video</td>\n",
       "      <td>food</td>\n",
       "    </tr>\n",
       "  </tbody>\n",
       "</table>\n",
       "</div>"
      ],
      "text/plain": [
       "   Unnamed: 0                            Content ID  \\\n",
       "0           0  97522e57-d9ab-4bd6-97bf-c24d952602d2   \n",
       "1           1  9f737e0a-3cdd-4d29-9d24-753f4e3be810   \n",
       "2           2  230c4e4d-70c3-461d-b42c-ec09396efb3f   \n",
       "3           3  356fff80-da4d-4785-9f43-bc1261031dc6   \n",
       "4           4  01ab84dd-6364-4236-abbb-3f237db77180   \n",
       "\n",
       "                                User ID Content Type        Category  \n",
       "0  8d3cd87d-8a31-4935-9a4f-b319bfe05f31        photo        Studying  \n",
       "1  beb1f34e-7870-46d6-9fc7-2e12eb83ce43        photo  healthy eating  \n",
       "2  a5c65404-5894-4b87-82f2-d787cbee86b4        photo  healthy eating  \n",
       "3  9fb4ce88-fac1-406c-8544-1a899cee7aaf        photo      technology  \n",
       "4  e206e31b-5f85-4964-b6ea-d7ee5324def1        video            food  "
      ]
     },
     "execution_count": 146,
     "metadata": {},
     "output_type": "execute_result"
    }
   ],
   "source": [
    "content.head()\n"
   ]
  },
  {
   "cell_type": "markdown",
   "id": "73828bbb",
   "metadata": {},
   "source": [
    "### Merging the 'content' and 'reactions' dataframe "
   ]
  },
  {
   "cell_type": "code",
   "execution_count": 151,
   "id": "3d455251",
   "metadata": {},
   "outputs": [
    {
     "data": {
      "text/html": [
       "<div>\n",
       "<style scoped>\n",
       "    .dataframe tbody tr th:only-of-type {\n",
       "        vertical-align: middle;\n",
       "    }\n",
       "\n",
       "    .dataframe tbody tr th {\n",
       "        vertical-align: top;\n",
       "    }\n",
       "\n",
       "    .dataframe thead th {\n",
       "        text-align: right;\n",
       "    }\n",
       "</style>\n",
       "<table border=\"1\" class=\"dataframe\">\n",
       "  <thead>\n",
       "    <tr style=\"text-align: right;\">\n",
       "      <th></th>\n",
       "      <th>Unnamed: 0_x</th>\n",
       "      <th>Content ID</th>\n",
       "      <th>Reaction Type</th>\n",
       "      <th>Datetime</th>\n",
       "      <th>Unnamed: 0_y</th>\n",
       "      <th>User ID</th>\n",
       "      <th>Content Type</th>\n",
       "      <th>Category</th>\n",
       "    </tr>\n",
       "  </thead>\n",
       "  <tbody>\n",
       "    <tr>\n",
       "      <th>0</th>\n",
       "      <td>1</td>\n",
       "      <td>97522e57-d9ab-4bd6-97bf-c24d952602d2</td>\n",
       "      <td>disgust</td>\n",
       "      <td>2020-11-07 09:43:50</td>\n",
       "      <td>0</td>\n",
       "      <td>8d3cd87d-8a31-4935-9a4f-b319bfe05f31</td>\n",
       "      <td>photo</td>\n",
       "      <td>Studying</td>\n",
       "    </tr>\n",
       "    <tr>\n",
       "      <th>1</th>\n",
       "      <td>2</td>\n",
       "      <td>97522e57-d9ab-4bd6-97bf-c24d952602d2</td>\n",
       "      <td>dislike</td>\n",
       "      <td>2021-06-17 12:22:51</td>\n",
       "      <td>0</td>\n",
       "      <td>8d3cd87d-8a31-4935-9a4f-b319bfe05f31</td>\n",
       "      <td>photo</td>\n",
       "      <td>Studying</td>\n",
       "    </tr>\n",
       "    <tr>\n",
       "      <th>2</th>\n",
       "      <td>3</td>\n",
       "      <td>97522e57-d9ab-4bd6-97bf-c24d952602d2</td>\n",
       "      <td>scared</td>\n",
       "      <td>2021-04-18 05:13:58</td>\n",
       "      <td>0</td>\n",
       "      <td>8d3cd87d-8a31-4935-9a4f-b319bfe05f31</td>\n",
       "      <td>photo</td>\n",
       "      <td>Studying</td>\n",
       "    </tr>\n",
       "    <tr>\n",
       "      <th>3</th>\n",
       "      <td>4</td>\n",
       "      <td>97522e57-d9ab-4bd6-97bf-c24d952602d2</td>\n",
       "      <td>disgust</td>\n",
       "      <td>2021-01-06 19:13:01</td>\n",
       "      <td>0</td>\n",
       "      <td>8d3cd87d-8a31-4935-9a4f-b319bfe05f31</td>\n",
       "      <td>photo</td>\n",
       "      <td>Studying</td>\n",
       "    </tr>\n",
       "    <tr>\n",
       "      <th>4</th>\n",
       "      <td>5</td>\n",
       "      <td>97522e57-d9ab-4bd6-97bf-c24d952602d2</td>\n",
       "      <td>interested</td>\n",
       "      <td>2020-08-23 12:25:58</td>\n",
       "      <td>0</td>\n",
       "      <td>8d3cd87d-8a31-4935-9a4f-b319bfe05f31</td>\n",
       "      <td>photo</td>\n",
       "      <td>Studying</td>\n",
       "    </tr>\n",
       "  </tbody>\n",
       "</table>\n",
       "</div>"
      ],
      "text/plain": [
       "   Unnamed: 0_x                            Content ID Reaction Type  \\\n",
       "0             1  97522e57-d9ab-4bd6-97bf-c24d952602d2       disgust   \n",
       "1             2  97522e57-d9ab-4bd6-97bf-c24d952602d2       dislike   \n",
       "2             3  97522e57-d9ab-4bd6-97bf-c24d952602d2        scared   \n",
       "3             4  97522e57-d9ab-4bd6-97bf-c24d952602d2       disgust   \n",
       "4             5  97522e57-d9ab-4bd6-97bf-c24d952602d2    interested   \n",
       "\n",
       "              Datetime  Unnamed: 0_y                               User ID  \\\n",
       "0  2020-11-07 09:43:50             0  8d3cd87d-8a31-4935-9a4f-b319bfe05f31   \n",
       "1  2021-06-17 12:22:51             0  8d3cd87d-8a31-4935-9a4f-b319bfe05f31   \n",
       "2  2021-04-18 05:13:58             0  8d3cd87d-8a31-4935-9a4f-b319bfe05f31   \n",
       "3  2021-01-06 19:13:01             0  8d3cd87d-8a31-4935-9a4f-b319bfe05f31   \n",
       "4  2020-08-23 12:25:58             0  8d3cd87d-8a31-4935-9a4f-b319bfe05f31   \n",
       "\n",
       "  Content Type  Category  \n",
       "0        photo  Studying  \n",
       "1        photo  Studying  \n",
       "2        photo  Studying  \n",
       "3        photo  Studying  \n",
       "4        photo  Studying  "
      ]
     },
     "execution_count": 151,
     "metadata": {},
     "output_type": "execute_result"
    }
   ],
   "source": [
    "merged_df = reactions.merge(content, on='Content ID', how='left')\n",
    "\n",
    "merged_df.head()"
   ]
  },
  {
   "cell_type": "code",
   "execution_count": 152,
   "id": "66c1b468",
   "metadata": {},
   "outputs": [
    {
     "name": "stdout",
     "output_type": "stream",
     "text": [
      "<class 'pandas.core.frame.DataFrame'>\n",
      "Int64Index: 20056 entries, 0 to 20055\n",
      "Data columns (total 8 columns):\n",
      " #   Column         Non-Null Count  Dtype \n",
      "---  ------         --------------  ----- \n",
      " 0   Unnamed: 0_x   20056 non-null  int64 \n",
      " 1   Content ID     20056 non-null  object\n",
      " 2   Reaction Type  20056 non-null  object\n",
      " 3   Datetime       20056 non-null  object\n",
      " 4   Unnamed: 0_y   20056 non-null  int64 \n",
      " 5   User ID        20056 non-null  object\n",
      " 6   Content Type   20056 non-null  object\n",
      " 7   Category       20056 non-null  object\n",
      "dtypes: int64(2), object(6)\n",
      "memory usage: 1.4+ MB\n"
     ]
    }
   ],
   "source": [
    "merged_df.info()"
   ]
  },
  {
   "cell_type": "markdown",
   "id": "33e45cff",
   "metadata": {},
   "source": [
    "### Merging with 'reactiontype' dataframe to produce final dataframe"
   ]
  },
  {
   "cell_type": "code",
   "execution_count": 154,
   "id": "bff5792d",
   "metadata": {},
   "outputs": [
    {
     "data": {
      "text/html": [
       "<div>\n",
       "<style scoped>\n",
       "    .dataframe tbody tr th:only-of-type {\n",
       "        vertical-align: middle;\n",
       "    }\n",
       "\n",
       "    .dataframe tbody tr th {\n",
       "        vertical-align: top;\n",
       "    }\n",
       "\n",
       "    .dataframe thead th {\n",
       "        text-align: right;\n",
       "    }\n",
       "</style>\n",
       "<table border=\"1\" class=\"dataframe\">\n",
       "  <thead>\n",
       "    <tr style=\"text-align: right;\">\n",
       "      <th></th>\n",
       "      <th>Unnamed: 0_x</th>\n",
       "      <th>Content ID</th>\n",
       "      <th>Reaction Type</th>\n",
       "      <th>Datetime</th>\n",
       "      <th>Unnamed: 0_y</th>\n",
       "      <th>User ID</th>\n",
       "      <th>Content Type</th>\n",
       "      <th>Category</th>\n",
       "      <th>Unnamed: 0</th>\n",
       "      <th>Sentiment</th>\n",
       "      <th>Score</th>\n",
       "    </tr>\n",
       "  </thead>\n",
       "  <tbody>\n",
       "    <tr>\n",
       "      <th>0</th>\n",
       "      <td>1</td>\n",
       "      <td>97522e57-d9ab-4bd6-97bf-c24d952602d2</td>\n",
       "      <td>disgust</td>\n",
       "      <td>2020-11-07 09:43:50</td>\n",
       "      <td>0</td>\n",
       "      <td>8d3cd87d-8a31-4935-9a4f-b319bfe05f31</td>\n",
       "      <td>photo</td>\n",
       "      <td>Studying</td>\n",
       "      <td>2</td>\n",
       "      <td>negative</td>\n",
       "      <td>0</td>\n",
       "    </tr>\n",
       "    <tr>\n",
       "      <th>1</th>\n",
       "      <td>2</td>\n",
       "      <td>97522e57-d9ab-4bd6-97bf-c24d952602d2</td>\n",
       "      <td>dislike</td>\n",
       "      <td>2021-06-17 12:22:51</td>\n",
       "      <td>0</td>\n",
       "      <td>8d3cd87d-8a31-4935-9a4f-b319bfe05f31</td>\n",
       "      <td>photo</td>\n",
       "      <td>Studying</td>\n",
       "      <td>11</td>\n",
       "      <td>negative</td>\n",
       "      <td>10</td>\n",
       "    </tr>\n",
       "    <tr>\n",
       "      <th>2</th>\n",
       "      <td>3</td>\n",
       "      <td>97522e57-d9ab-4bd6-97bf-c24d952602d2</td>\n",
       "      <td>scared</td>\n",
       "      <td>2021-04-18 05:13:58</td>\n",
       "      <td>0</td>\n",
       "      <td>8d3cd87d-8a31-4935-9a4f-b319bfe05f31</td>\n",
       "      <td>photo</td>\n",
       "      <td>Studying</td>\n",
       "      <td>14</td>\n",
       "      <td>negative</td>\n",
       "      <td>15</td>\n",
       "    </tr>\n",
       "    <tr>\n",
       "      <th>3</th>\n",
       "      <td>4</td>\n",
       "      <td>97522e57-d9ab-4bd6-97bf-c24d952602d2</td>\n",
       "      <td>disgust</td>\n",
       "      <td>2021-01-06 19:13:01</td>\n",
       "      <td>0</td>\n",
       "      <td>8d3cd87d-8a31-4935-9a4f-b319bfe05f31</td>\n",
       "      <td>photo</td>\n",
       "      <td>Studying</td>\n",
       "      <td>2</td>\n",
       "      <td>negative</td>\n",
       "      <td>0</td>\n",
       "    </tr>\n",
       "    <tr>\n",
       "      <th>4</th>\n",
       "      <td>5</td>\n",
       "      <td>97522e57-d9ab-4bd6-97bf-c24d952602d2</td>\n",
       "      <td>interested</td>\n",
       "      <td>2020-08-23 12:25:58</td>\n",
       "      <td>0</td>\n",
       "      <td>8d3cd87d-8a31-4935-9a4f-b319bfe05f31</td>\n",
       "      <td>photo</td>\n",
       "      <td>Studying</td>\n",
       "      <td>4</td>\n",
       "      <td>positive</td>\n",
       "      <td>30</td>\n",
       "    </tr>\n",
       "  </tbody>\n",
       "</table>\n",
       "</div>"
      ],
      "text/plain": [
       "   Unnamed: 0_x                            Content ID Reaction Type  \\\n",
       "0             1  97522e57-d9ab-4bd6-97bf-c24d952602d2       disgust   \n",
       "1             2  97522e57-d9ab-4bd6-97bf-c24d952602d2       dislike   \n",
       "2             3  97522e57-d9ab-4bd6-97bf-c24d952602d2        scared   \n",
       "3             4  97522e57-d9ab-4bd6-97bf-c24d952602d2       disgust   \n",
       "4             5  97522e57-d9ab-4bd6-97bf-c24d952602d2    interested   \n",
       "\n",
       "              Datetime  Unnamed: 0_y                               User ID  \\\n",
       "0  2020-11-07 09:43:50             0  8d3cd87d-8a31-4935-9a4f-b319bfe05f31   \n",
       "1  2021-06-17 12:22:51             0  8d3cd87d-8a31-4935-9a4f-b319bfe05f31   \n",
       "2  2021-04-18 05:13:58             0  8d3cd87d-8a31-4935-9a4f-b319bfe05f31   \n",
       "3  2021-01-06 19:13:01             0  8d3cd87d-8a31-4935-9a4f-b319bfe05f31   \n",
       "4  2020-08-23 12:25:58             0  8d3cd87d-8a31-4935-9a4f-b319bfe05f31   \n",
       "\n",
       "  Content Type  Category  Unnamed: 0 Sentiment  Score  \n",
       "0        photo  Studying           2  negative      0  \n",
       "1        photo  Studying          11  negative     10  \n",
       "2        photo  Studying          14  negative     15  \n",
       "3        photo  Studying           2  negative      0  \n",
       "4        photo  Studying           4  positive     30  "
      ]
     },
     "execution_count": 154,
     "metadata": {},
     "output_type": "execute_result"
    }
   ],
   "source": [
    "final_df=merged_df.merge(reactiontype, on = 'Reaction Type', how='left')\n",
    "final_df.head()"
   ]
  },
  {
   "cell_type": "code",
   "execution_count": 160,
   "id": "b8c17b98",
   "metadata": {},
   "outputs": [
    {
     "data": {
      "text/html": [
       "<div>\n",
       "<style scoped>\n",
       "    .dataframe tbody tr th:only-of-type {\n",
       "        vertical-align: middle;\n",
       "    }\n",
       "\n",
       "    .dataframe tbody tr th {\n",
       "        vertical-align: top;\n",
       "    }\n",
       "\n",
       "    .dataframe thead th {\n",
       "        text-align: right;\n",
       "    }\n",
       "</style>\n",
       "<table border=\"1\" class=\"dataframe\">\n",
       "  <thead>\n",
       "    <tr style=\"text-align: right;\">\n",
       "      <th></th>\n",
       "      <th>Content ID</th>\n",
       "      <th>Reaction Type</th>\n",
       "      <th>Datetime</th>\n",
       "      <th>User ID</th>\n",
       "      <th>Content Type</th>\n",
       "      <th>Category</th>\n",
       "      <th>Sentiment</th>\n",
       "      <th>Score</th>\n",
       "    </tr>\n",
       "  </thead>\n",
       "  <tbody>\n",
       "    <tr>\n",
       "      <th>0</th>\n",
       "      <td>97522e57-d9ab-4bd6-97bf-c24d952602d2</td>\n",
       "      <td>disgust</td>\n",
       "      <td>2020-11-07 09:43:50</td>\n",
       "      <td>8d3cd87d-8a31-4935-9a4f-b319bfe05f31</td>\n",
       "      <td>photo</td>\n",
       "      <td>Studying</td>\n",
       "      <td>negative</td>\n",
       "      <td>0</td>\n",
       "    </tr>\n",
       "    <tr>\n",
       "      <th>1</th>\n",
       "      <td>97522e57-d9ab-4bd6-97bf-c24d952602d2</td>\n",
       "      <td>dislike</td>\n",
       "      <td>2021-06-17 12:22:51</td>\n",
       "      <td>8d3cd87d-8a31-4935-9a4f-b319bfe05f31</td>\n",
       "      <td>photo</td>\n",
       "      <td>Studying</td>\n",
       "      <td>negative</td>\n",
       "      <td>10</td>\n",
       "    </tr>\n",
       "    <tr>\n",
       "      <th>2</th>\n",
       "      <td>97522e57-d9ab-4bd6-97bf-c24d952602d2</td>\n",
       "      <td>scared</td>\n",
       "      <td>2021-04-18 05:13:58</td>\n",
       "      <td>8d3cd87d-8a31-4935-9a4f-b319bfe05f31</td>\n",
       "      <td>photo</td>\n",
       "      <td>Studying</td>\n",
       "      <td>negative</td>\n",
       "      <td>15</td>\n",
       "    </tr>\n",
       "    <tr>\n",
       "      <th>3</th>\n",
       "      <td>97522e57-d9ab-4bd6-97bf-c24d952602d2</td>\n",
       "      <td>disgust</td>\n",
       "      <td>2021-01-06 19:13:01</td>\n",
       "      <td>8d3cd87d-8a31-4935-9a4f-b319bfe05f31</td>\n",
       "      <td>photo</td>\n",
       "      <td>Studying</td>\n",
       "      <td>negative</td>\n",
       "      <td>0</td>\n",
       "    </tr>\n",
       "    <tr>\n",
       "      <th>4</th>\n",
       "      <td>97522e57-d9ab-4bd6-97bf-c24d952602d2</td>\n",
       "      <td>interested</td>\n",
       "      <td>2020-08-23 12:25:58</td>\n",
       "      <td>8d3cd87d-8a31-4935-9a4f-b319bfe05f31</td>\n",
       "      <td>photo</td>\n",
       "      <td>Studying</td>\n",
       "      <td>positive</td>\n",
       "      <td>30</td>\n",
       "    </tr>\n",
       "  </tbody>\n",
       "</table>\n",
       "</div>"
      ],
      "text/plain": [
       "                             Content ID Reaction Type             Datetime  \\\n",
       "0  97522e57-d9ab-4bd6-97bf-c24d952602d2       disgust  2020-11-07 09:43:50   \n",
       "1  97522e57-d9ab-4bd6-97bf-c24d952602d2       dislike  2021-06-17 12:22:51   \n",
       "2  97522e57-d9ab-4bd6-97bf-c24d952602d2        scared  2021-04-18 05:13:58   \n",
       "3  97522e57-d9ab-4bd6-97bf-c24d952602d2       disgust  2021-01-06 19:13:01   \n",
       "4  97522e57-d9ab-4bd6-97bf-c24d952602d2    interested  2020-08-23 12:25:58   \n",
       "\n",
       "                                User ID Content Type  Category Sentiment  \\\n",
       "0  8d3cd87d-8a31-4935-9a4f-b319bfe05f31        photo  Studying  negative   \n",
       "1  8d3cd87d-8a31-4935-9a4f-b319bfe05f31        photo  Studying  negative   \n",
       "2  8d3cd87d-8a31-4935-9a4f-b319bfe05f31        photo  Studying  negative   \n",
       "3  8d3cd87d-8a31-4935-9a4f-b319bfe05f31        photo  Studying  negative   \n",
       "4  8d3cd87d-8a31-4935-9a4f-b319bfe05f31        photo  Studying  positive   \n",
       "\n",
       "   Score  \n",
       "0      0  \n",
       "1     10  \n",
       "2     15  \n",
       "3      0  \n",
       "4     30  "
      ]
     },
     "execution_count": 160,
     "metadata": {},
     "output_type": "execute_result"
    }
   ],
   "source": [
    "final=final_df.drop(columns=['Unnamed: 0','Unnamed: 0_x', 'Unnamed: 0_y'], axis=1)\n",
    "final.head()"
   ]
  },
  {
   "cell_type": "code",
   "execution_count": 161,
   "id": "bfda0a75",
   "metadata": {},
   "outputs": [
    {
     "data": {
      "text/html": [
       "<div>\n",
       "<style scoped>\n",
       "    .dataframe tbody tr th:only-of-type {\n",
       "        vertical-align: middle;\n",
       "    }\n",
       "\n",
       "    .dataframe tbody tr th {\n",
       "        vertical-align: top;\n",
       "    }\n",
       "\n",
       "    .dataframe thead th {\n",
       "        text-align: right;\n",
       "    }\n",
       "</style>\n",
       "<table border=\"1\" class=\"dataframe\">\n",
       "  <thead>\n",
       "    <tr style=\"text-align: right;\">\n",
       "      <th></th>\n",
       "      <th>Score</th>\n",
       "    </tr>\n",
       "  </thead>\n",
       "  <tbody>\n",
       "    <tr>\n",
       "      <th>count</th>\n",
       "      <td>20056.000000</td>\n",
       "    </tr>\n",
       "    <tr>\n",
       "      <th>mean</th>\n",
       "      <td>39.762016</td>\n",
       "    </tr>\n",
       "    <tr>\n",
       "      <th>std</th>\n",
       "      <td>26.031474</td>\n",
       "    </tr>\n",
       "    <tr>\n",
       "      <th>min</th>\n",
       "      <td>0.000000</td>\n",
       "    </tr>\n",
       "    <tr>\n",
       "      <th>25%</th>\n",
       "      <td>15.000000</td>\n",
       "    </tr>\n",
       "    <tr>\n",
       "      <th>50%</th>\n",
       "      <td>45.000000</td>\n",
       "    </tr>\n",
       "    <tr>\n",
       "      <th>75%</th>\n",
       "      <td>65.000000</td>\n",
       "    </tr>\n",
       "    <tr>\n",
       "      <th>max</th>\n",
       "      <td>75.000000</td>\n",
       "    </tr>\n",
       "  </tbody>\n",
       "</table>\n",
       "</div>"
      ],
      "text/plain": [
       "              Score\n",
       "count  20056.000000\n",
       "mean      39.762016\n",
       "std       26.031474\n",
       "min        0.000000\n",
       "25%       15.000000\n",
       "50%       45.000000\n",
       "75%       65.000000\n",
       "max       75.000000"
      ]
     },
     "execution_count": 161,
     "metadata": {},
     "output_type": "execute_result"
    }
   ],
   "source": [
    "final.describe()"
   ]
  },
  {
   "cell_type": "code",
   "execution_count": 163,
   "id": "8030ac0b",
   "metadata": {},
   "outputs": [
    {
     "name": "stdout",
     "output_type": "stream",
     "text": [
      "<class 'pandas.core.frame.DataFrame'>\n",
      "Int64Index: 20056 entries, 0 to 20055\n",
      "Data columns (total 8 columns):\n",
      " #   Column         Non-Null Count  Dtype \n",
      "---  ------         --------------  ----- \n",
      " 0   Content ID     20056 non-null  object\n",
      " 1   Reaction Type  20056 non-null  object\n",
      " 2   Datetime       20056 non-null  object\n",
      " 3   User ID        20056 non-null  object\n",
      " 4   Content Type   20056 non-null  object\n",
      " 5   Category       20056 non-null  object\n",
      " 6   Sentiment      20056 non-null  object\n",
      " 7   Score          20056 non-null  int64 \n",
      "dtypes: int64(1), object(7)\n",
      "memory usage: 1.4+ MB\n"
     ]
    }
   ],
   "source": [
    "final.info()"
   ]
  },
  {
   "cell_type": "code",
   "execution_count": 165,
   "id": "5bba12d8",
   "metadata": {},
   "outputs": [
    {
     "data": {
      "text/plain": [
       "heart          1332\n",
       "scared         1278\n",
       "indifferent    1278\n",
       "interested     1273\n",
       "super love     1273\n",
       "want           1269\n",
       "love           1266\n",
       "hate           1259\n",
       "peeking        1256\n",
       "adore          1248\n",
       "like           1240\n",
       "disgust        1236\n",
       "dislike        1233\n",
       "cherish        1218\n",
       "intrigued      1199\n",
       "worried        1198\n",
       "Name: Reaction Type, dtype: int64"
      ]
     },
     "execution_count": 165,
     "metadata": {},
     "output_type": "execute_result"
    }
   ],
   "source": [
    "\n",
    "final['Reaction Type'].value_counts()\n"
   ]
  },
  {
   "cell_type": "code",
   "execution_count": 166,
   "id": "07515251",
   "metadata": {},
   "outputs": [
    {
     "data": {
      "text/plain": [
       "photo    5463\n",
       "video    5059\n",
       "GIF      4866\n",
       "audio    4668\n",
       "Name: Content Type, dtype: int64"
      ]
     },
     "execution_count": 166,
     "metadata": {},
     "output_type": "execute_result"
    }
   ],
   "source": [
    "final['Content Type'].value_counts()\n"
   ]
  },
  {
   "cell_type": "code",
   "execution_count": 167,
   "id": "b55fe89f",
   "metadata": {},
   "outputs": [
    {
     "data": {
      "text/plain": [
       "travel             1494\n",
       "science            1475\n",
       "animals            1443\n",
       "healthy eating     1422\n",
       "cooking            1394\n",
       "culture            1326\n",
       "food               1293\n",
       "tennis             1258\n",
       "technology         1256\n",
       "education          1232\n",
       "soccer             1161\n",
       "dogs               1142\n",
       "fitness            1141\n",
       "veganism           1032\n",
       "public speaking     994\n",
       "studying            948\n",
       "Studying             45\n",
       "Name: Category, dtype: int64"
      ]
     },
     "execution_count": 167,
     "metadata": {},
     "output_type": "execute_result"
    }
   ],
   "source": [
    "final['Category'].value_counts()\n",
    "\n"
   ]
  },
  {
   "cell_type": "code",
   "execution_count": 168,
   "id": "762787b8",
   "metadata": {},
   "outputs": [
    {
     "data": {
      "text/plain": [
       "positive    11318\n",
       "negative     6204\n",
       "neutral      2534\n",
       "Name: Sentiment, dtype: int64"
      ]
     },
     "execution_count": 168,
     "metadata": {},
     "output_type": "execute_result"
    }
   ],
   "source": [
    "final['Sentiment'].value_counts()"
   ]
  },
  {
   "cell_type": "code",
   "execution_count": 171,
   "id": "2a7731e2",
   "metadata": {},
   "outputs": [
    {
     "name": "stdout",
     "output_type": "stream",
     "text": [
      "['travel', 'science', 'healthy eating', 'animals', 'cooking']\n"
     ]
    }
   ],
   "source": [
    "# Identify top 5 categories based on summed scores\n",
    "top_5_categories = final.groupby('Category')['Score'].sum().nlargest(5).index.tolist()\n",
    "\n",
    "print(top_5_categories)\n"
   ]
  },
  {
   "cell_type": "code",
   "execution_count": 173,
   "id": "7266ff13",
   "metadata": {},
   "outputs": [
    {
     "data": {
      "text/html": [
       "<div>\n",
       "<style scoped>\n",
       "    .dataframe tbody tr th:only-of-type {\n",
       "        vertical-align: middle;\n",
       "    }\n",
       "\n",
       "    .dataframe tbody tr th {\n",
       "        vertical-align: top;\n",
       "    }\n",
       "\n",
       "    .dataframe thead th {\n",
       "        text-align: right;\n",
       "    }\n",
       "</style>\n",
       "<table border=\"1\" class=\"dataframe\">\n",
       "  <thead>\n",
       "    <tr style=\"text-align: right;\">\n",
       "      <th></th>\n",
       "      <th>Content ID</th>\n",
       "      <th>Reaction Type</th>\n",
       "      <th>Datetime</th>\n",
       "      <th>User ID</th>\n",
       "      <th>Content Type</th>\n",
       "      <th>Category</th>\n",
       "      <th>Sentiment</th>\n",
       "      <th>Score</th>\n",
       "    </tr>\n",
       "  </thead>\n",
       "  <tbody>\n",
       "    <tr>\n",
       "      <th>45</th>\n",
       "      <td>9f737e0a-3cdd-4d29-9d24-753f4e3be810</td>\n",
       "      <td>dislike</td>\n",
       "      <td>2020-06-25 17:01:58</td>\n",
       "      <td>beb1f34e-7870-46d6-9fc7-2e12eb83ce43</td>\n",
       "      <td>photo</td>\n",
       "      <td>healthy eating</td>\n",
       "      <td>negative</td>\n",
       "      <td>10</td>\n",
       "    </tr>\n",
       "    <tr>\n",
       "      <th>46</th>\n",
       "      <td>9f737e0a-3cdd-4d29-9d24-753f4e3be810</td>\n",
       "      <td>intrigued</td>\n",
       "      <td>2020-09-13 00:11:50</td>\n",
       "      <td>beb1f34e-7870-46d6-9fc7-2e12eb83ce43</td>\n",
       "      <td>photo</td>\n",
       "      <td>healthy eating</td>\n",
       "      <td>positive</td>\n",
       "      <td>45</td>\n",
       "    </tr>\n",
       "    <tr>\n",
       "      <th>47</th>\n",
       "      <td>9f737e0a-3cdd-4d29-9d24-753f4e3be810</td>\n",
       "      <td>peeking</td>\n",
       "      <td>2020-08-20 18:17:06</td>\n",
       "      <td>beb1f34e-7870-46d6-9fc7-2e12eb83ce43</td>\n",
       "      <td>photo</td>\n",
       "      <td>healthy eating</td>\n",
       "      <td>neutral</td>\n",
       "      <td>35</td>\n",
       "    </tr>\n",
       "    <tr>\n",
       "      <th>48</th>\n",
       "      <td>9f737e0a-3cdd-4d29-9d24-753f4e3be810</td>\n",
       "      <td>scared</td>\n",
       "      <td>2021-02-11 04:53:56</td>\n",
       "      <td>beb1f34e-7870-46d6-9fc7-2e12eb83ce43</td>\n",
       "      <td>photo</td>\n",
       "      <td>healthy eating</td>\n",
       "      <td>negative</td>\n",
       "      <td>15</td>\n",
       "    </tr>\n",
       "    <tr>\n",
       "      <th>49</th>\n",
       "      <td>9f737e0a-3cdd-4d29-9d24-753f4e3be810</td>\n",
       "      <td>hate</td>\n",
       "      <td>2021-03-08 10:40:53</td>\n",
       "      <td>beb1f34e-7870-46d6-9fc7-2e12eb83ce43</td>\n",
       "      <td>photo</td>\n",
       "      <td>healthy eating</td>\n",
       "      <td>negative</td>\n",
       "      <td>5</td>\n",
       "    </tr>\n",
       "    <tr>\n",
       "      <th>50</th>\n",
       "      <td>9f737e0a-3cdd-4d29-9d24-753f4e3be810</td>\n",
       "      <td>disgust</td>\n",
       "      <td>2021-03-28 21:15:26</td>\n",
       "      <td>beb1f34e-7870-46d6-9fc7-2e12eb83ce43</td>\n",
       "      <td>photo</td>\n",
       "      <td>healthy eating</td>\n",
       "      <td>negative</td>\n",
       "      <td>0</td>\n",
       "    </tr>\n",
       "    <tr>\n",
       "      <th>51</th>\n",
       "      <td>9f737e0a-3cdd-4d29-9d24-753f4e3be810</td>\n",
       "      <td>hate</td>\n",
       "      <td>2021-05-25 01:00:28</td>\n",
       "      <td>beb1f34e-7870-46d6-9fc7-2e12eb83ce43</td>\n",
       "      <td>photo</td>\n",
       "      <td>healthy eating</td>\n",
       "      <td>negative</td>\n",
       "      <td>5</td>\n",
       "    </tr>\n",
       "    <tr>\n",
       "      <th>52</th>\n",
       "      <td>9f737e0a-3cdd-4d29-9d24-753f4e3be810</td>\n",
       "      <td>like</td>\n",
       "      <td>2021-03-15 12:17:43</td>\n",
       "      <td>beb1f34e-7870-46d6-9fc7-2e12eb83ce43</td>\n",
       "      <td>photo</td>\n",
       "      <td>healthy eating</td>\n",
       "      <td>positive</td>\n",
       "      <td>50</td>\n",
       "    </tr>\n",
       "    <tr>\n",
       "      <th>53</th>\n",
       "      <td>9f737e0a-3cdd-4d29-9d24-753f4e3be810</td>\n",
       "      <td>love</td>\n",
       "      <td>2021-05-05 16:26:43</td>\n",
       "      <td>beb1f34e-7870-46d6-9fc7-2e12eb83ce43</td>\n",
       "      <td>photo</td>\n",
       "      <td>healthy eating</td>\n",
       "      <td>positive</td>\n",
       "      <td>65</td>\n",
       "    </tr>\n",
       "    <tr>\n",
       "      <th>54</th>\n",
       "      <td>9f737e0a-3cdd-4d29-9d24-753f4e3be810</td>\n",
       "      <td>love</td>\n",
       "      <td>2020-08-31 00:21:56</td>\n",
       "      <td>beb1f34e-7870-46d6-9fc7-2e12eb83ce43</td>\n",
       "      <td>photo</td>\n",
       "      <td>healthy eating</td>\n",
       "      <td>positive</td>\n",
       "      <td>65</td>\n",
       "    </tr>\n",
       "    <tr>\n",
       "      <th>55</th>\n",
       "      <td>9f737e0a-3cdd-4d29-9d24-753f4e3be810</td>\n",
       "      <td>heart</td>\n",
       "      <td>2021-06-16 03:02:28</td>\n",
       "      <td>beb1f34e-7870-46d6-9fc7-2e12eb83ce43</td>\n",
       "      <td>photo</td>\n",
       "      <td>healthy eating</td>\n",
       "      <td>positive</td>\n",
       "      <td>60</td>\n",
       "    </tr>\n",
       "    <tr>\n",
       "      <th>56</th>\n",
       "      <td>9f737e0a-3cdd-4d29-9d24-753f4e3be810</td>\n",
       "      <td>indifferent</td>\n",
       "      <td>2020-07-07 10:52:30</td>\n",
       "      <td>beb1f34e-7870-46d6-9fc7-2e12eb83ce43</td>\n",
       "      <td>photo</td>\n",
       "      <td>healthy eating</td>\n",
       "      <td>neutral</td>\n",
       "      <td>20</td>\n",
       "    </tr>\n",
       "    <tr>\n",
       "      <th>57</th>\n",
       "      <td>9f737e0a-3cdd-4d29-9d24-753f4e3be810</td>\n",
       "      <td>peeking</td>\n",
       "      <td>2020-08-20 07:59:11</td>\n",
       "      <td>beb1f34e-7870-46d6-9fc7-2e12eb83ce43</td>\n",
       "      <td>photo</td>\n",
       "      <td>healthy eating</td>\n",
       "      <td>neutral</td>\n",
       "      <td>35</td>\n",
       "    </tr>\n",
       "    <tr>\n",
       "      <th>58</th>\n",
       "      <td>9f737e0a-3cdd-4d29-9d24-753f4e3be810</td>\n",
       "      <td>love</td>\n",
       "      <td>2020-09-23 11:15:19</td>\n",
       "      <td>beb1f34e-7870-46d6-9fc7-2e12eb83ce43</td>\n",
       "      <td>photo</td>\n",
       "      <td>healthy eating</td>\n",
       "      <td>positive</td>\n",
       "      <td>65</td>\n",
       "    </tr>\n",
       "    <tr>\n",
       "      <th>59</th>\n",
       "      <td>9f737e0a-3cdd-4d29-9d24-753f4e3be810</td>\n",
       "      <td>like</td>\n",
       "      <td>2021-03-24 05:56:19</td>\n",
       "      <td>beb1f34e-7870-46d6-9fc7-2e12eb83ce43</td>\n",
       "      <td>photo</td>\n",
       "      <td>healthy eating</td>\n",
       "      <td>positive</td>\n",
       "      <td>50</td>\n",
       "    </tr>\n",
       "    <tr>\n",
       "      <th>60</th>\n",
       "      <td>230c4e4d-70c3-461d-b42c-ec09396efb3f</td>\n",
       "      <td>hate</td>\n",
       "      <td>2020-12-07 19:13:23</td>\n",
       "      <td>a5c65404-5894-4b87-82f2-d787cbee86b4</td>\n",
       "      <td>photo</td>\n",
       "      <td>healthy eating</td>\n",
       "      <td>negative</td>\n",
       "      <td>5</td>\n",
       "    </tr>\n",
       "    <tr>\n",
       "      <th>61</th>\n",
       "      <td>230c4e4d-70c3-461d-b42c-ec09396efb3f</td>\n",
       "      <td>super love</td>\n",
       "      <td>2020-08-03 16:41:04</td>\n",
       "      <td>a5c65404-5894-4b87-82f2-d787cbee86b4</td>\n",
       "      <td>photo</td>\n",
       "      <td>healthy eating</td>\n",
       "      <td>positive</td>\n",
       "      <td>75</td>\n",
       "    </tr>\n",
       "    <tr>\n",
       "      <th>62</th>\n",
       "      <td>230c4e4d-70c3-461d-b42c-ec09396efb3f</td>\n",
       "      <td>adore</td>\n",
       "      <td>2021-01-10 15:36:01</td>\n",
       "      <td>a5c65404-5894-4b87-82f2-d787cbee86b4</td>\n",
       "      <td>photo</td>\n",
       "      <td>healthy eating</td>\n",
       "      <td>positive</td>\n",
       "      <td>72</td>\n",
       "    </tr>\n",
       "    <tr>\n",
       "      <th>63</th>\n",
       "      <td>230c4e4d-70c3-461d-b42c-ec09396efb3f</td>\n",
       "      <td>scared</td>\n",
       "      <td>2020-09-20 08:48:13</td>\n",
       "      <td>a5c65404-5894-4b87-82f2-d787cbee86b4</td>\n",
       "      <td>photo</td>\n",
       "      <td>healthy eating</td>\n",
       "      <td>negative</td>\n",
       "      <td>15</td>\n",
       "    </tr>\n",
       "    <tr>\n",
       "      <th>64</th>\n",
       "      <td>230c4e4d-70c3-461d-b42c-ec09396efb3f</td>\n",
       "      <td>cherish</td>\n",
       "      <td>2020-07-20 14:06:31</td>\n",
       "      <td>a5c65404-5894-4b87-82f2-d787cbee86b4</td>\n",
       "      <td>photo</td>\n",
       "      <td>healthy eating</td>\n",
       "      <td>positive</td>\n",
       "      <td>70</td>\n",
       "    </tr>\n",
       "  </tbody>\n",
       "</table>\n",
       "</div>"
      ],
      "text/plain": [
       "                              Content ID Reaction Type             Datetime  \\\n",
       "45  9f737e0a-3cdd-4d29-9d24-753f4e3be810       dislike  2020-06-25 17:01:58   \n",
       "46  9f737e0a-3cdd-4d29-9d24-753f4e3be810     intrigued  2020-09-13 00:11:50   \n",
       "47  9f737e0a-3cdd-4d29-9d24-753f4e3be810       peeking  2020-08-20 18:17:06   \n",
       "48  9f737e0a-3cdd-4d29-9d24-753f4e3be810        scared  2021-02-11 04:53:56   \n",
       "49  9f737e0a-3cdd-4d29-9d24-753f4e3be810          hate  2021-03-08 10:40:53   \n",
       "50  9f737e0a-3cdd-4d29-9d24-753f4e3be810       disgust  2021-03-28 21:15:26   \n",
       "51  9f737e0a-3cdd-4d29-9d24-753f4e3be810          hate  2021-05-25 01:00:28   \n",
       "52  9f737e0a-3cdd-4d29-9d24-753f4e3be810          like  2021-03-15 12:17:43   \n",
       "53  9f737e0a-3cdd-4d29-9d24-753f4e3be810          love  2021-05-05 16:26:43   \n",
       "54  9f737e0a-3cdd-4d29-9d24-753f4e3be810          love  2020-08-31 00:21:56   \n",
       "55  9f737e0a-3cdd-4d29-9d24-753f4e3be810         heart  2021-06-16 03:02:28   \n",
       "56  9f737e0a-3cdd-4d29-9d24-753f4e3be810   indifferent  2020-07-07 10:52:30   \n",
       "57  9f737e0a-3cdd-4d29-9d24-753f4e3be810       peeking  2020-08-20 07:59:11   \n",
       "58  9f737e0a-3cdd-4d29-9d24-753f4e3be810          love  2020-09-23 11:15:19   \n",
       "59  9f737e0a-3cdd-4d29-9d24-753f4e3be810          like  2021-03-24 05:56:19   \n",
       "60  230c4e4d-70c3-461d-b42c-ec09396efb3f          hate  2020-12-07 19:13:23   \n",
       "61  230c4e4d-70c3-461d-b42c-ec09396efb3f    super love  2020-08-03 16:41:04   \n",
       "62  230c4e4d-70c3-461d-b42c-ec09396efb3f         adore  2021-01-10 15:36:01   \n",
       "63  230c4e4d-70c3-461d-b42c-ec09396efb3f        scared  2020-09-20 08:48:13   \n",
       "64  230c4e4d-70c3-461d-b42c-ec09396efb3f       cherish  2020-07-20 14:06:31   \n",
       "\n",
       "                                 User ID Content Type        Category  \\\n",
       "45  beb1f34e-7870-46d6-9fc7-2e12eb83ce43        photo  healthy eating   \n",
       "46  beb1f34e-7870-46d6-9fc7-2e12eb83ce43        photo  healthy eating   \n",
       "47  beb1f34e-7870-46d6-9fc7-2e12eb83ce43        photo  healthy eating   \n",
       "48  beb1f34e-7870-46d6-9fc7-2e12eb83ce43        photo  healthy eating   \n",
       "49  beb1f34e-7870-46d6-9fc7-2e12eb83ce43        photo  healthy eating   \n",
       "50  beb1f34e-7870-46d6-9fc7-2e12eb83ce43        photo  healthy eating   \n",
       "51  beb1f34e-7870-46d6-9fc7-2e12eb83ce43        photo  healthy eating   \n",
       "52  beb1f34e-7870-46d6-9fc7-2e12eb83ce43        photo  healthy eating   \n",
       "53  beb1f34e-7870-46d6-9fc7-2e12eb83ce43        photo  healthy eating   \n",
       "54  beb1f34e-7870-46d6-9fc7-2e12eb83ce43        photo  healthy eating   \n",
       "55  beb1f34e-7870-46d6-9fc7-2e12eb83ce43        photo  healthy eating   \n",
       "56  beb1f34e-7870-46d6-9fc7-2e12eb83ce43        photo  healthy eating   \n",
       "57  beb1f34e-7870-46d6-9fc7-2e12eb83ce43        photo  healthy eating   \n",
       "58  beb1f34e-7870-46d6-9fc7-2e12eb83ce43        photo  healthy eating   \n",
       "59  beb1f34e-7870-46d6-9fc7-2e12eb83ce43        photo  healthy eating   \n",
       "60  a5c65404-5894-4b87-82f2-d787cbee86b4        photo  healthy eating   \n",
       "61  a5c65404-5894-4b87-82f2-d787cbee86b4        photo  healthy eating   \n",
       "62  a5c65404-5894-4b87-82f2-d787cbee86b4        photo  healthy eating   \n",
       "63  a5c65404-5894-4b87-82f2-d787cbee86b4        photo  healthy eating   \n",
       "64  a5c65404-5894-4b87-82f2-d787cbee86b4        photo  healthy eating   \n",
       "\n",
       "   Sentiment  Score  \n",
       "45  negative     10  \n",
       "46  positive     45  \n",
       "47   neutral     35  \n",
       "48  negative     15  \n",
       "49  negative      5  \n",
       "50  negative      0  \n",
       "51  negative      5  \n",
       "52  positive     50  \n",
       "53  positive     65  \n",
       "54  positive     65  \n",
       "55  positive     60  \n",
       "56   neutral     20  \n",
       "57   neutral     35  \n",
       "58  positive     65  \n",
       "59  positive     50  \n",
       "60  negative      5  \n",
       "61  positive     75  \n",
       "62  positive     72  \n",
       "63  negative     15  \n",
       "64  positive     70  "
      ]
     },
     "execution_count": 173,
     "metadata": {},
     "output_type": "execute_result"
    }
   ],
   "source": [
    "# Filter merged_df to include only rows corresponding to top 5 categories\n",
    "finalfive = final[final['Category'].isin(top_5_categories)]\n",
    "\n",
    "finalfive.head(20)\n"
   ]
  },
  {
   "cell_type": "code",
   "execution_count": 174,
   "id": "8eb6791d",
   "metadata": {},
   "outputs": [
    {
     "name": "stdout",
     "output_type": "stream",
     "text": [
      "<class 'pandas.core.frame.DataFrame'>\n",
      "Int64Index: 7228 entries, 45 to 19955\n",
      "Data columns (total 8 columns):\n",
      " #   Column         Non-Null Count  Dtype \n",
      "---  ------         --------------  ----- \n",
      " 0   Content ID     7228 non-null   object\n",
      " 1   Reaction Type  7228 non-null   object\n",
      " 2   Datetime       7228 non-null   object\n",
      " 3   User ID        7228 non-null   object\n",
      " 4   Content Type   7228 non-null   object\n",
      " 5   Category       7228 non-null   object\n",
      " 6   Sentiment      7228 non-null   object\n",
      " 7   Score          7228 non-null   int64 \n",
      "dtypes: int64(1), object(7)\n",
      "memory usage: 508.2+ KB\n"
     ]
    }
   ],
   "source": [
    "finalfive.info()"
   ]
  },
  {
   "cell_type": "code",
   "execution_count": 177,
   "id": "c7872cee",
   "metadata": {},
   "outputs": [],
   "source": [
    "finalfive.to_excel('/Users/farhana/Desktop/Pythondata/finalfive.xlsx', index=False)\n"
   ]
  },
  {
   "cell_type": "code",
   "execution_count": 181,
   "id": "37027395",
   "metadata": {},
   "outputs": [
    {
     "name": "stdout",
     "output_type": "stream",
     "text": [
      "<class 'pandas.core.frame.DataFrame'>\n",
      "Int64Index: 7228 entries, 45 to 19955\n",
      "Data columns (total 8 columns):\n",
      " #   Column         Non-Null Count  Dtype \n",
      "---  ------         --------------  ----- \n",
      " 0   Content ID     7228 non-null   object\n",
      " 1   Reaction Type  7228 non-null   object\n",
      " 2   Datetime       7228 non-null   object\n",
      " 3   User ID        7228 non-null   object\n",
      " 4   Content Type   7228 non-null   object\n",
      " 5   Category       7228 non-null   object\n",
      " 6   Sentiment      7228 non-null   object\n",
      " 7   Score          7228 non-null   int64 \n",
      "dtypes: int64(1), object(7)\n",
      "memory usage: 508.2+ KB\n"
     ]
    }
   ],
   "source": [
    "finalfive.info()"
   ]
  },
  {
   "cell_type": "code",
   "execution_count": 178,
   "id": "922dadc0",
   "metadata": {},
   "outputs": [
    {
     "data": {
      "text/html": [
       "<div>\n",
       "<style scoped>\n",
       "    .dataframe tbody tr th:only-of-type {\n",
       "        vertical-align: middle;\n",
       "    }\n",
       "\n",
       "    .dataframe tbody tr th {\n",
       "        vertical-align: top;\n",
       "    }\n",
       "\n",
       "    .dataframe thead th {\n",
       "        text-align: right;\n",
       "    }\n",
       "</style>\n",
       "<table border=\"1\" class=\"dataframe\">\n",
       "  <thead>\n",
       "    <tr style=\"text-align: right;\">\n",
       "      <th></th>\n",
       "      <th>Unnamed: 0</th>\n",
       "      <th>Content ID</th>\n",
       "      <th>Reaction Type</th>\n",
       "      <th>Datetime</th>\n",
       "      <th>Content Type</th>\n",
       "      <th>Category</th>\n",
       "      <th>Sentiment</th>\n",
       "      <th>Score</th>\n",
       "    </tr>\n",
       "  </thead>\n",
       "  <tbody>\n",
       "    <tr>\n",
       "      <th>0</th>\n",
       "      <td>0</td>\n",
       "      <td>97522e57-d9ab-4bd6-97bf-c24d952602d2</td>\n",
       "      <td>disgust</td>\n",
       "      <td>7/11/20 9:43</td>\n",
       "      <td>photo</td>\n",
       "      <td>studying</td>\n",
       "      <td>negative</td>\n",
       "      <td>0</td>\n",
       "    </tr>\n",
       "    <tr>\n",
       "      <th>1</th>\n",
       "      <td>1</td>\n",
       "      <td>97522e57-d9ab-4bd6-97bf-c24d952602d2</td>\n",
       "      <td>dislike</td>\n",
       "      <td>17/6/21 12:22</td>\n",
       "      <td>photo</td>\n",
       "      <td>studying</td>\n",
       "      <td>negative</td>\n",
       "      <td>10</td>\n",
       "    </tr>\n",
       "    <tr>\n",
       "      <th>2</th>\n",
       "      <td>2</td>\n",
       "      <td>97522e57-d9ab-4bd6-97bf-c24d952602d2</td>\n",
       "      <td>scared</td>\n",
       "      <td>18/4/21 5:13</td>\n",
       "      <td>photo</td>\n",
       "      <td>studying</td>\n",
       "      <td>negative</td>\n",
       "      <td>15</td>\n",
       "    </tr>\n",
       "    <tr>\n",
       "      <th>3</th>\n",
       "      <td>3</td>\n",
       "      <td>97522e57-d9ab-4bd6-97bf-c24d952602d2</td>\n",
       "      <td>disgust</td>\n",
       "      <td>6/1/21 19:13</td>\n",
       "      <td>photo</td>\n",
       "      <td>studying</td>\n",
       "      <td>negative</td>\n",
       "      <td>0</td>\n",
       "    </tr>\n",
       "    <tr>\n",
       "      <th>4</th>\n",
       "      <td>4</td>\n",
       "      <td>97522e57-d9ab-4bd6-97bf-c24d952602d2</td>\n",
       "      <td>interested</td>\n",
       "      <td>23/8/20 12:25</td>\n",
       "      <td>photo</td>\n",
       "      <td>studying</td>\n",
       "      <td>positive</td>\n",
       "      <td>30</td>\n",
       "    </tr>\n",
       "  </tbody>\n",
       "</table>\n",
       "</div>"
      ],
      "text/plain": [
       "   Unnamed: 0                            Content ID Reaction Type  \\\n",
       "0           0  97522e57-d9ab-4bd6-97bf-c24d952602d2       disgust   \n",
       "1           1  97522e57-d9ab-4bd6-97bf-c24d952602d2       dislike   \n",
       "2           2  97522e57-d9ab-4bd6-97bf-c24d952602d2        scared   \n",
       "3           3  97522e57-d9ab-4bd6-97bf-c24d952602d2       disgust   \n",
       "4           4  97522e57-d9ab-4bd6-97bf-c24d952602d2    interested   \n",
       "\n",
       "        Datetime Content Type  Category Sentiment  Score  \n",
       "0   7/11/20 9:43        photo  studying  negative      0  \n",
       "1  17/6/21 12:22        photo  studying  negative     10  \n",
       "2   18/4/21 5:13        photo  studying  negative     15  \n",
       "3   6/1/21 19:13        photo  studying  negative      0  \n",
       "4  23/8/20 12:25        photo  studying  positive     30  "
      ]
     },
     "execution_count": 178,
     "metadata": {},
     "output_type": "execute_result"
    }
   ],
   "source": [
    "final=pd.read_csv(\"/Users/farhana/Desktop/Pythondata/Task 3_Final.csv\")\n",
    "final.head()"
   ]
  },
  {
   "cell_type": "code",
   "execution_count": 180,
   "id": "34b31cfb",
   "metadata": {},
   "outputs": [
    {
     "name": "stdout",
     "output_type": "stream",
     "text": [
      "<class 'pandas.core.frame.DataFrame'>\n",
      "RangeIndex: 24573 entries, 0 to 24572\n",
      "Data columns (total 8 columns):\n",
      " #   Column         Non-Null Count  Dtype \n",
      "---  ------         --------------  ----- \n",
      " 0   Unnamed: 0     24573 non-null  int64 \n",
      " 1   Content ID     24573 non-null  object\n",
      " 2   Reaction Type  24573 non-null  object\n",
      " 3   Datetime       24573 non-null  object\n",
      " 4   Content Type   24573 non-null  object\n",
      " 5   Category       24573 non-null  object\n",
      " 6   Sentiment      24573 non-null  object\n",
      " 7   Score          24573 non-null  int64 \n",
      "dtypes: int64(2), object(6)\n",
      "memory usage: 1.5+ MB\n"
     ]
    }
   ],
   "source": [
    "final.info()"
   ]
  },
  {
   "cell_type": "code",
   "execution_count": 221,
   "id": "1a8b8683",
   "metadata": {},
   "outputs": [
    {
     "data": {
      "text/plain": [
       "Text(0, 0.5, 'Content Category')"
      ]
     },
     "execution_count": 221,
     "metadata": {},
     "output_type": "execute_result"
    },
    {
     "data": {
      "image/png": "[encoded data removed]",
      "text/plain": [
       "<Figure size 640x480 with 1 Axes>"
      ]
     },
     "metadata": {},
     "output_type": "display_data"
    }
   ],
   "source": [
    "pd.value_counts(final['Category']).iloc[::-1].plot.barh()\n",
    "plt.xlabel('Number of Reactions')\n",
    "plt.ylabel('Content Category')"
   ]
  },
  {
   "cell_type": "code",
   "execution_count": 230,
   "id": "991e3851",
   "metadata": {},
   "outputs": [
    {
     "data": {
      "text/plain": [
       "Text(0, 0.5, 'Sentiment Type')"
      ]
     },
     "execution_count": 230,
     "metadata": {},
     "output_type": "execute_result"
    },
    {
     "data": {
      "image/png": "[encoded data removed]",
      "text/plain": [
       "<Figure size 640x480 with 1 Axes>"
      ]
     },
     "metadata": {},
     "output_type": "display_data"
    }
   ],
   "source": [
    "pd.value_counts(final['Sentiment']).plot.barh()\n",
    "plt.xlabel('Number of Reactions')\n",
    "plt.ylabel('Sentiment Type')"
   ]
  },
  {
   "cell_type": "markdown",
   "id": "33ada149",
   "metadata": {},
   "source": [
    "## Identify the top 5 content categories based on the number of reactions"
   ]
  },
  {
   "cell_type": "code",
   "execution_count": 234,
   "id": "d97d1554",
   "metadata": {},
   "outputs": [
    {
     "data": {
      "text/plain": [
       "(animals           1897\n",
       " science           1796\n",
       " healthy eating    1717\n",
       " food              1699\n",
       " technology        1698\n",
       " Name: Category, dtype: int64,\n",
       " 16)"
      ]
     },
     "execution_count": 234,
     "metadata": {},
     "output_type": "execute_result"
    }
   ],
   "source": [
    "\n",
    "top5_categories = final['Category'].value_counts().head(5)\n",
    "\n",
    "# Find out how many unique categories there are\n",
    "num_unique_categories = final['Category'].nunique()\n",
    "\n",
    "top5_categories, num_unique_categories\n"
   ]
  },
  {
   "cell_type": "code",
   "execution_count": 198,
   "id": "d0e44e90",
   "metadata": {},
   "outputs": [
    {
     "name": "stdout",
     "output_type": "stream",
     "text": [
      "(24573, 8)\n"
     ]
    },
    {
     "data": {
      "text/html": [
       "<div>\n",
       "<style scoped>\n",
       "    .dataframe tbody tr th:only-of-type {\n",
       "        vertical-align: middle;\n",
       "    }\n",
       "\n",
       "    .dataframe tbody tr th {\n",
       "        vertical-align: top;\n",
       "    }\n",
       "\n",
       "    .dataframe thead th {\n",
       "        text-align: right;\n",
       "    }\n",
       "</style>\n",
       "<table border=\"1\" class=\"dataframe\">\n",
       "  <thead>\n",
       "    <tr style=\"text-align: right;\">\n",
       "      <th></th>\n",
       "      <th>unique_len</th>\n",
       "      <th>unique_val</th>\n",
       "    </tr>\n",
       "  </thead>\n",
       "  <tbody>\n",
       "    <tr>\n",
       "      <th>Unnamed: 0</th>\n",
       "      <td>24573</td>\n",
       "      <td>[0, 1, 2, 3, 4, 5, 6, 7, 8, 9, 10, 11, 12, 13,...</td>\n",
       "    </tr>\n",
       "    <tr>\n",
       "      <th>Content ID</th>\n",
       "      <td>962</td>\n",
       "      <td>[97522e57-d9ab-4bd6-97bf-c24d952602d2, 9f737e0...</td>\n",
       "    </tr>\n",
       "    <tr>\n",
       "      <th>Reaction Type</th>\n",
       "      <td>16</td>\n",
       "      <td>[disgust, dislike, scared, interested, peeking...</td>\n",
       "    </tr>\n",
       "    <tr>\n",
       "      <th>Datetime</th>\n",
       "      <td>24010</td>\n",
       "      <td>[7/11/20 9:43, 17/6/21 12:22, 18/4/21 5:13, 6/...</td>\n",
       "    </tr>\n",
       "    <tr>\n",
       "      <th>Content Type</th>\n",
       "      <td>4</td>\n",
       "      <td>[photo, video, GIF, audio]</td>\n",
       "    </tr>\n",
       "    <tr>\n",
       "      <th>Category</th>\n",
       "      <td>16</td>\n",
       "      <td>[studying, healthy eating, technology, food, c...</td>\n",
       "    </tr>\n",
       "    <tr>\n",
       "      <th>Sentiment</th>\n",
       "      <td>3</td>\n",
       "      <td>[negative, positive, neutral]</td>\n",
       "    </tr>\n",
       "    <tr>\n",
       "      <th>Score</th>\n",
       "      <td>15</td>\n",
       "      <td>[0, 10, 15, 30, 35, 70, 5, 65, 20, 75, 45, 12,...</td>\n",
       "    </tr>\n",
       "  </tbody>\n",
       "</table>\n",
       "</div>"
      ],
      "text/plain": [
       "               unique_len                                         unique_val\n",
       "Unnamed: 0          24573  [0, 1, 2, 3, 4, 5, 6, 7, 8, 9, 10, 11, 12, 13,...\n",
       "Content ID            962  [97522e57-d9ab-4bd6-97bf-c24d952602d2, 9f737e0...\n",
       "Reaction Type          16  [disgust, dislike, scared, interested, peeking...\n",
       "Datetime            24010  [7/11/20 9:43, 17/6/21 12:22, 18/4/21 5:13, 6/...\n",
       "Content Type            4                         [photo, video, GIF, audio]\n",
       "Category               16  [studying, healthy eating, technology, food, c...\n",
       "Sentiment               3                      [negative, positive, neutral]\n",
       "Score                  15  [0, 10, 15, 30, 35, 70, 5, 65, 20, 75, 45, 12,..."
      ]
     },
     "execution_count": 198,
     "metadata": {},
     "output_type": "execute_result"
    }
   ],
   "source": [
    "def rstr(data):\n",
    "    structural_info = pd.DataFrame(index=data.columns)\n",
    "    structural_info['unique_len'] = data.apply(lambda x: len(x.unique()))\n",
    "    structural_info['unique_val'] = data.apply(lambda x: x.unique())\n",
    "    print(data.shape)\n",
    "    return structural_info\n",
    "\n",
    "rstr(final)\n"
   ]
  },
  {
   "cell_type": "code",
   "execution_count": 202,
   "id": "2ced9ff2",
   "metadata": {},
   "outputs": [
    {
     "data": {
      "text/plain": [
       "(1897, Period('2021-01', 'M'), 1708)"
      ]
     },
     "execution_count": 202,
     "metadata": {},
     "output_type": "execute_result"
    }
   ],
   "source": [
    "# Number of reactions to the most popular category (Animals)\n",
    "num_reactions_most_popular = top_5_categories.iloc[0]\n",
    "\n",
    "# Convert the 'Datetime' column to datetime format and extract the month and year\n",
    "final['Month_Year'] = pd.to_datetime(final['Datetime']).dt.to_period('M')\n",
    "\n",
    "# Identify the month with the most posts\n",
    "month_most_posts = final['Month_Year'].value_counts().idxmax()\n",
    "num_posts_in_month = final['Month_Year'].value_counts().max()\n",
    "\n",
    "num_reactions_most_popular, month_most_posts, num_posts_in_month\n"
   ]
  },
  {
   "cell_type": "code",
   "execution_count": 229,
   "id": "9333a7a8",
   "metadata": {
    "scrolled": true
   },
   "outputs": [
    {
     "data": {
      "image/png": "[encoded data removed]",
      "text/plain": [
       "<Figure size 1000x600 with 1 Axes>"
      ]
     },
     "metadata": {},
     "output_type": "display_data"
    },
    {
     "data": {
      "image/png": "[encoded data removed]",
      "text/plain": [
       "<Figure size 800x400 with 1 Axes>"
      ]
     },
     "metadata": {},
     "output_type": "display_data"
    }
   ],
   "source": [
    "import matplotlib.pyplot as plt\n",
    "top5_categories = top5_categories[::-1]\n",
    "# Plotting the top 5 categories based on reaction counts\n",
    "plt.figure(figsize=(10, 6))\n",
    "top5_categories.plot(kind='barh', color='skyblue')\n",
    "plt.title('Top 5 Popular Categories', weight='bold')\n",
    "plt.ylabel('Category', weight='bold')\n",
    "plt.xlabel('Number of Reactions', weight='bold')\n",
    "plt.tight_layout()\n",
    "plt.show()\n",
    "\n",
    "# Plotting the number of posts over time (monthly post count)\n",
    "plt.figure(figsize=(8, 4))\n",
    "final['Month_Year'].value_counts().sort_index().plot(kind='line', marker='o', color='coral')\n",
    "plt.title('Monthly Post Count Over Time', weight= 'bold')\n",
    "plt.xlabel('Month and Year', weight = 'bold')\n",
    "plt.ylabel('Number of Posts', weight='bold')\n",
    "plt.grid(True, which='both', linestyle='--', linewidth=0.5)\n",
    "plt.tight_layout()\n",
    "plt.show()\n"
   ]
  },
  {
   "cell_type": "code",
   "execution_count": 240,
   "id": "a9d3aea2",
   "metadata": {
    "scrolled": true
   },
   "outputs": [
    {
     "data": {
      "text/html": [
       "<div>\n",
       "<style scoped>\n",
       "    .dataframe tbody tr th:only-of-type {\n",
       "        vertical-align: middle;\n",
       "    }\n",
       "\n",
       "    .dataframe tbody tr th {\n",
       "        vertical-align: top;\n",
       "    }\n",
       "\n",
       "    .dataframe thead th {\n",
       "        text-align: right;\n",
       "    }\n",
       "</style>\n",
       "<table border=\"1\" class=\"dataframe\">\n",
       "  <thead>\n",
       "    <tr style=\"text-align: right;\">\n",
       "      <th></th>\n",
       "      <th>Unnamed: 0</th>\n",
       "      <th>Content ID</th>\n",
       "      <th>Reaction Type</th>\n",
       "      <th>Datetime</th>\n",
       "      <th>Content Type</th>\n",
       "      <th>Category</th>\n",
       "      <th>Sentiment</th>\n",
       "      <th>Score</th>\n",
       "      <th>Month_Year</th>\n",
       "    </tr>\n",
       "  </thead>\n",
       "  <tbody>\n",
       "    <tr>\n",
       "      <th>45</th>\n",
       "      <td>45</td>\n",
       "      <td>9f737e0a-3cdd-4d29-9d24-753f4e3be810</td>\n",
       "      <td>dislike</td>\n",
       "      <td>25/6/20 17:01</td>\n",
       "      <td>photo</td>\n",
       "      <td>healthy eating</td>\n",
       "      <td>negative</td>\n",
       "      <td>10</td>\n",
       "      <td>2020-06</td>\n",
       "    </tr>\n",
       "    <tr>\n",
       "      <th>46</th>\n",
       "      <td>46</td>\n",
       "      <td>9f737e0a-3cdd-4d29-9d24-753f4e3be810</td>\n",
       "      <td>intrigued</td>\n",
       "      <td>13/9/20 0:11</td>\n",
       "      <td>photo</td>\n",
       "      <td>healthy eating</td>\n",
       "      <td>positive</td>\n",
       "      <td>45</td>\n",
       "      <td>2020-09</td>\n",
       "    </tr>\n",
       "    <tr>\n",
       "      <th>47</th>\n",
       "      <td>47</td>\n",
       "      <td>9f737e0a-3cdd-4d29-9d24-753f4e3be810</td>\n",
       "      <td>peeking</td>\n",
       "      <td>20/8/20 18:17</td>\n",
       "      <td>photo</td>\n",
       "      <td>healthy eating</td>\n",
       "      <td>neutral</td>\n",
       "      <td>35</td>\n",
       "      <td>2020-08</td>\n",
       "    </tr>\n",
       "    <tr>\n",
       "      <th>48</th>\n",
       "      <td>48</td>\n",
       "      <td>9f737e0a-3cdd-4d29-9d24-753f4e3be810</td>\n",
       "      <td>scared</td>\n",
       "      <td>11/2/21 4:53</td>\n",
       "      <td>photo</td>\n",
       "      <td>healthy eating</td>\n",
       "      <td>negative</td>\n",
       "      <td>15</td>\n",
       "      <td>2021-11</td>\n",
       "    </tr>\n",
       "    <tr>\n",
       "      <th>49</th>\n",
       "      <td>49</td>\n",
       "      <td>9f737e0a-3cdd-4d29-9d24-753f4e3be810</td>\n",
       "      <td>hate</td>\n",
       "      <td>8/3/21 10:40</td>\n",
       "      <td>photo</td>\n",
       "      <td>healthy eating</td>\n",
       "      <td>negative</td>\n",
       "      <td>5</td>\n",
       "      <td>2021-08</td>\n",
       "    </tr>\n",
       "  </tbody>\n",
       "</table>\n",
       "</div>"
      ],
      "text/plain": [
       "    Unnamed: 0                            Content ID Reaction Type  \\\n",
       "45          45  9f737e0a-3cdd-4d29-9d24-753f4e3be810       dislike   \n",
       "46          46  9f737e0a-3cdd-4d29-9d24-753f4e3be810     intrigued   \n",
       "47          47  9f737e0a-3cdd-4d29-9d24-753f4e3be810       peeking   \n",
       "48          48  9f737e0a-3cdd-4d29-9d24-753f4e3be810        scared   \n",
       "49          49  9f737e0a-3cdd-4d29-9d24-753f4e3be810          hate   \n",
       "\n",
       "         Datetime Content Type        Category Sentiment  Score Month_Year  \n",
       "45  25/6/20 17:01        photo  healthy eating  negative     10    2020-06  \n",
       "46   13/9/20 0:11        photo  healthy eating  positive     45    2020-09  \n",
       "47  20/8/20 18:17        photo  healthy eating   neutral     35    2020-08  \n",
       "48   11/2/21 4:53        photo  healthy eating  negative     15    2021-11  \n",
       "49   8/3/21 10:40        photo  healthy eating  negative      5    2021-08  "
      ]
     },
     "execution_count": 240,
     "metadata": {},
     "output_type": "execute_result"
    }
   ],
   "source": [
    "top5_categories = final['Category'].value_counts().head(5).index.tolist()\n",
    "filtered = final[final['Category'].isin(top5_categories)]\n",
    "filtered.head()"
   ]
  },
  {
   "cell_type": "code",
   "execution_count": 245,
   "id": "4a252cc9",
   "metadata": {},
   "outputs": [
    {
     "data": {
      "image/png": "[encoded data removed]",
      "text/plain": [
       "<Figure size 1000x600 with 1 Axes>"
      ]
     },
     "metadata": {},
     "output_type": "display_data"
    }
   ],
   "source": [
    "grouped_data = filtered.groupby(['Category', 'Sentiment']).size().unstack()\n",
    "grouped_data = grouped_data.iloc[::-1]\n",
    "\n",
    "grouped_data.plot(kind='barh', stacked=True, figsize=(10, 6))\n",
    "plt.title('Stacked Bar Plot of Sentiment vs. Top 5 categories')\n",
    "plt.ylabel('Count')\n",
    "plt.xlabel('Sentiment')\n",
    "plt.show()"
   ]
  },
  {
   "cell_type": "code",
   "execution_count": 246,
   "id": "60903b17",
   "metadata": {},
   "outputs": [],
   "source": [
    "overall_sentiment_distribution = grouped_data.sum()\n"
   ]
  },
  {
   "cell_type": "code",
   "execution_count": 247,
   "id": "e5d35f98",
   "metadata": {},
   "outputs": [
    {
     "data": {
      "image/png": "[encoded data removed]",
      "text/plain": [
       "<Figure size 800x800 with 1 Axes>"
      ]
     },
     "metadata": {},
     "output_type": "display_data"
    }
   ],
   "source": [
    "plt.figure(figsize=(8, 8))\n",
    "overall_sentiment_distribution.plot(kind='pie', autopct='%1.1f%%', startangle=140)\n",
    "plt.title('Overall Sentiment Distribution Across Top 5 Categories')\n",
    "plt.ylabel('')  # This is to remove the default 'None' ylabel produced by pandas pie plot\n",
    "plt.show()\n"
   ]
  },
  {
   "cell_type": "code",
   "execution_count": 248,
   "id": "e6d457f1",
   "metadata": {},
   "outputs": [
    {
     "data": {
      "image/png": "[encoded data removed]",
      "text/plain": [
       "<Figure size 1000x600 with 1 Axes>"
      ]
     },
     "metadata": {},
     "output_type": "display_data"
    }
   ],
   "source": [
    "grouped_data = filtered.groupby(['Category', 'Content Type']).size().unstack()\n",
    "grouped_data = grouped_data.iloc[::-1]\n",
    "\n",
    "grouped_data.plot(kind='barh', stacked=True, figsize=(10, 6))\n",
    "plt.title('Stacked Bar Plot of Sentiment vs. Top 5 categories')\n",
    "plt.ylabel('Count')\n",
    "plt.xlabel('Sentiment')\n",
    "plt.show()"
   ]
  },
  {
   "cell_type": "code",
   "execution_count": 257,
   "id": "0261dc63",
   "metadata": {},
   "outputs": [
    {
     "data": {
      "image/png": "[encoded data removed]",
      "text/plain": [
       "<Figure size 1000x600 with 1 Axes>"
      ]
     },
     "metadata": {},
     "output_type": "display_data"
    }
   ],
   "source": [
    "# Plotting using a grouped bar chart\n",
    "grouped_data = grouped_data.iloc[::-1]\n",
    "ax = grouped_data.plot(kind='bar', figsize=(10, 6), rot=45)\n",
    "\n",
    "plt.title('Grouped Bar Plot of Content Type vs. Top 5 Categories', weight='bold')\n",
    "plt.ylabel('Count', weight='bold')\n",
    "plt.xlabel('Category', weight='bold')\n",
    "plt.show()\n"
   ]
  },
  {
   "cell_type": "code",
   "execution_count": 264,
   "id": "b3ee2e34",
   "metadata": {},
   "outputs": [
    {
     "data": {
      "image/png": "[encoded data removed]",
      "text/plain": [
       "<Figure size 800x800 with 1 Axes>"
      ]
     },
     "metadata": {},
     "output_type": "display_data"
    }
   ],
   "source": [
    "# Aggregate data by 'Content Type'\n",
    "content_type_distribution = final['Content Type'].value_counts()\n",
    "\n",
    "# Plotting the pie chart\n",
    "plt.figure(figsize=(8, 8))\n",
    "content_type_distribution.plot(kind='pie', autopct='%1.1f%%', startangle=140)\n",
    "plt.title('Distribution of Content Type Overall')\n",
    "plt.ylabel('')  # This is to remove the default 'None' ylabel produced by pandas pie plot\n",
    "plt.show()\n"
   ]
  },
  {
   "cell_type": "code",
   "execution_count": 263,
   "id": "759216fa",
   "metadata": {},
   "outputs": [
    {
     "data": {
      "image/png": "[encoded data removed]",
      "text/plain": [
       "<Figure size 800x800 with 1 Axes>"
      ]
     },
     "metadata": {},
     "output_type": "display_data"
    }
   ],
   "source": [
    "# Aggregate data by 'Content Type'\n",
    "content_type_distribution = filtered['Content Type'].value_counts()\n",
    "\n",
    "# Plotting the pie chart\n",
    "plt.figure(figsize=(8, 8))\n",
    "content_type_distribution.plot(kind='pie', autopct='%1.1f%%', startangle=140)\n",
    "plt.title('Distribution of Content Type Across Top 5 Categories')\n",
    "plt.ylabel('')  # This is to remove the default 'None' ylabel produced by pandas pie plot\n",
    "plt.show()\n"
   ]
  },
  {
   "cell_type": "code",
   "execution_count": null,
   "id": "ff8d9e33",
   "metadata": {},
   "outputs": [],
   "source": []
  }
 ],
 "metadata": {
  "kernelspec": {
   "display_name": "Python 3 (ipykernel)",
   "language": "python",
   "name": "python3"
  },
  "language_info": {
   "codemirror_mode": {
    "name": "ipython",
    "version": 3
   },
   "file_extension": ".py",
   "mimetype": "text/x-python",
   "name": "python",
   "nbconvert_exporter": "python",
   "pygments_lexer": "ipython3",
   "version": "3.11.4"
  }
 },
 "nbformat": 4,
 "nbformat_minor": 5
}
